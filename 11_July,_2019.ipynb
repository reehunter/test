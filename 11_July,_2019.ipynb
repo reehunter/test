{
  "nbformat": 4,
  "nbformat_minor": 0,
  "metadata": {
    "colab": {
      "name": "11 July, 2019",
      "version": "0.3.2",
      "provenance": [],
      "collapsed_sections": [],
      "include_colab_link": true
    },
    "kernelspec": {
      "name": "python3",
      "display_name": "Python 3"
    }
  },
  "cells": [
    {
      "cell_type": "markdown",
      "metadata": {
        "id": "view-in-github",
        "colab_type": "text"
      },
      "source": [
        "<a href=\"https://colab.research.google.com/github/reehunter/test/blob/master/11_July%2C_2019.ipynb\" target=\"_parent\"><img src=\"https://colab.research.google.com/assets/colab-badge.svg\" alt=\"Open In Colab\"/></a>"
      ]
    },
    {
      "cell_type": "markdown",
      "metadata": {
        "id": "a7ko3olTJ2ju",
        "colab_type": "text"
      },
      "source": [
        "### Standard libraries\n",
        "\n",
        "- File I/O\n",
        "- Regular Expression\n",
        "- Datetime\n",
        "- Math (numerical and Mathematical)\n",
        "\n"
      ]
    },
    {
      "cell_type": "markdown",
      "metadata": {
        "id": "VHaRVUaCKamV",
        "colab_type": "text"
      },
      "source": [
        "### File Handling in Python \n",
        "\n",
        "- File : Document containing information resides on the permanent storage \n",
        "- Different types of files - txt, doc, pdf, csv, etc\n",
        "- Input : Keyboard\n",
        "- Output : File\n",
        "\n",
        "\n",
        "#### Modes of the file I/O \n",
        "- 'w'  -- mode used for writing in file\n",
        "    \n",
        "    . If the file is not present, first it creates the file and then add data to it\n",
        "    . If the file is already present, it will overwrite the data\n",
        "    \n"
      ]
    },
    {
      "cell_type": "code",
      "metadata": {
        "id": "z2SgT5JRLvmV",
        "colab_type": "code",
        "outputId": "535fa039-686d-40f5-e44d-e64988263582",
        "colab": {
          "base_uri": "https://localhost:8080/",
          "height": 34
        }
      },
      "source": [
        "# Function to create a file and write to the file\n",
        "\n",
        "def createFile(filename) : \n",
        "  f = open(filename,'w')\n",
        "  for i in range(10) :\n",
        "    f.write(\"This is %d line\\n\" % i)\n",
        "  print(\"File is created and data is written\")\n",
        "  return\n",
        "\n",
        "createFile('file1.txt')\n"
      ],
      "execution_count": 0,
      "outputs": [
        {
          "output_type": "stream",
          "text": [
            "File is created and data is written\n"
          ],
          "name": "stdout"
        }
      ]
    },
    {
      "cell_type": "code",
      "metadata": {
        "id": "76g1pSoKOkOv",
        "colab_type": "code",
        "outputId": "99d04862-0a20-4687-bd1c-e5a8a55028aa",
        "colab": {
          "base_uri": "https://localhost:8080/",
          "height": 34
        }
      },
      "source": [
        "ls  # file\n"
      ],
      "execution_count": 0,
      "outputs": [
        {
          "output_type": "stream",
          "text": [
            "file1.txt  \u001b[0m\u001b[01;34msample_data\u001b[0m/\n"
          ],
          "name": "stdout"
        }
      ]
    },
    {
      "cell_type": "code",
      "metadata": {
        "id": "WOoy67sYNCWP",
        "colab_type": "code",
        "outputId": "16278bcf-80f6-41e9-b060-b3cfcd477f94",
        "colab": {
          "base_uri": "https://localhost:8080/",
          "height": 187
        }
      },
      "source": [
        "cat file1.txt"
      ],
      "execution_count": 0,
      "outputs": [
        {
          "output_type": "stream",
          "text": [
            "This is 0 line\n",
            "This is 1 line\n",
            "This is 2 line\n",
            "This is 3 line\n",
            "This is 4 line\n",
            "This is 5 line\n",
            "This is 6 line\n",
            "This is 7 line\n",
            "This is 8 line\n",
            "This is 9 line\n"
          ],
          "name": "stdout"
        }
      ]
    },
    {
      "cell_type": "code",
      "metadata": {
        "id": "htXfE_eYQRsD",
        "colab_type": "code",
        "outputId": "b315db63-5bd0-4882-c130-3d831182adda",
        "colab": {
          "base_uri": "https://localhost:8080/",
          "height": 34
        }
      },
      "source": [
        "\n",
        "def appendData(filename) :\n",
        "  f = open(filename,'w') \n",
        "  for i in range(10) :\n",
        "    f.write(\"This is %d line\\n\" % i)\n",
        "  print(\"File created and data written\")\n",
        "  return\n",
        "appendData('file1.txt')\n"
      ],
      "execution_count": 0,
      "outputs": [
        {
          "output_type": "stream",
          "text": [
            "File created and data written\n"
          ],
          "name": "stdout"
        }
      ]
    },
    {
      "cell_type": "code",
      "metadata": {
        "id": "tgiA3AP2Tdd3",
        "colab_type": "code",
        "outputId": "6b2da7a5-21ff-4f97-9fb3-910a42da0755",
        "colab": {
          "base_uri": "https://localhost:8080/",
          "height": 187
        }
      },
      "source": [
        "cat file1.txt"
      ],
      "execution_count": 0,
      "outputs": [
        {
          "output_type": "stream",
          "text": [
            "This is 0 line\n",
            "This is 1 line\n",
            "This is 2 line\n",
            "This is 3 line\n",
            "This is 4 line\n",
            "This is 5 line\n",
            "This is 6 line\n",
            "This is 7 line\n",
            "This is 8 line\n",
            "This is 9 line\n"
          ],
          "name": "stdout"
        }
      ]
    },
    {
      "cell_type": "code",
      "metadata": {
        "id": "OVHLSLTeTWbd",
        "colab_type": "code",
        "outputId": "ae5f52ed-65e5-49da-e981-14d843b9ca91",
        "colab": {
          "base_uri": "https://localhost:8080/",
          "height": 34
        }
      },
      "source": [
        "\n",
        "def appendData(filename) :\n",
        "  f = open(filename,'a') \n",
        "  for i in range(5) :\n",
        "    f.write(\"New line %d \\n\" % i)\n",
        "  print(\"File created and data written\")\n",
        "  f.close()\n",
        "  return\n",
        "appendData('file1.txt')\n"
      ],
      "execution_count": 0,
      "outputs": [
        {
          "output_type": "stream",
          "text": [
            "File created and data written\n"
          ],
          "name": "stdout"
        }
      ]
    },
    {
      "cell_type": "code",
      "metadata": {
        "id": "ZK0YixYOSoBu",
        "colab_type": "code",
        "outputId": "deaf2768-eab9-40e7-9d4f-0a675b5e556f",
        "colab": {
          "base_uri": "https://localhost:8080/",
          "height": 357
        }
      },
      "source": [
        "cat file1.txt"
      ],
      "execution_count": 0,
      "outputs": [
        {
          "output_type": "stream",
          "text": [
            "This is 0 line\n",
            "This is 1 line\n",
            "This is 2 line\n",
            "This is 3 line\n",
            "This is 4 line\n",
            "This is 5 line\n",
            "This is 6 line\n",
            "This is 7 line\n",
            "This is 8 line\n",
            "This is 9 line\n",
            "New line 0 \n",
            "New line 1 \n",
            "New line 2 \n",
            "New line 3 \n",
            "New line 4 \n",
            "New line 0 \n",
            "New line 1 \n",
            "New line 2 \n",
            "New line 3 \n",
            "New line 4 \n"
          ],
          "name": "stdout"
        }
      ]
    },
    {
      "cell_type": "code",
      "metadata": {
        "id": "VWA-yQs9Tlpo",
        "colab_type": "code",
        "outputId": "d2e5b43a-2386-4e67-b143-6a1d56a032c9",
        "colab": {
          "base_uri": "https://localhost:8080/",
          "height": 374
        }
      },
      "source": [
        "\n",
        "def readData(filename) :\n",
        "  f = open(filename,'r') \n",
        "  if f.mode == 'r' :\n",
        "    x = f.read()\n",
        "    print(x)\n",
        "  f.close()\n",
        "  return\n",
        "readData('file1.txt')\n"
      ],
      "execution_count": 0,
      "outputs": [
        {
          "output_type": "stream",
          "text": [
            "This is 0 line\n",
            "This is 1 line\n",
            "This is 2 line\n",
            "This is 3 line\n",
            "This is 4 line\n",
            "This is 5 line\n",
            "This is 6 line\n",
            "This is 7 line\n",
            "This is 8 line\n",
            "This is 9 line\n",
            "New line 0 \n",
            "New line 1 \n",
            "New line 2 \n",
            "New line 3 \n",
            "New line 4 \n",
            "New line 0 \n",
            "New line 1 \n",
            "New line 2 \n",
            "New line 3 \n",
            "New line 4 \n",
            "\n"
          ],
          "name": "stdout"
        }
      ]
    },
    {
      "cell_type": "code",
      "metadata": {
        "id": "qG-2S84SWfNu",
        "colab_type": "code",
        "colab": {}
      },
      "source": [
        "# Function to read the file\n",
        "def fileOperation(filename,mode) :\n",
        "  with open(filename,mode) as f :\n",
        "    if f.mode == 'r' :\n",
        "      data = f.read()\n",
        "      print(data)\n",
        "    elif f.mode == 'a' :\n",
        "      f.write(\"Data to the file\")\n",
        "      print(\"Data written to file\")\n",
        "  f.close()\n",
        "  return\n",
        "filename = input(\"Enter the file name - \")\n",
        "mode = input(\"Enter the mode of the file - \")\n",
        "fileOperation(filename,mode)\n"
      ],
      "execution_count": 0,
      "outputs": []
    },
    {
      "cell_type": "code",
      "metadata": {
        "id": "kLu0iwP8ZTTk",
        "colab_type": "code",
        "outputId": "9a531b4a-48d0-4cc3-8420-5cfb41c9219c",
        "colab": {
          "base_uri": "https://localhost:8080/",
          "height": 68
        }
      },
      "source": [
        "# Data Analysis \n",
        "# Word count program\n",
        "\n",
        "def wordCount(filename,word) :\n",
        "  with open(filename,'r') as f :\n",
        "    if f.mode == 'r' :\n",
        "      x = f.read()\n",
        "      li = x.split()  # Splits string eith whitespace\n",
        "    cnt = li.count(word)\n",
        "  return cnt \n",
        "filename = input(\"Enter the file name - \")\n",
        "word = input(\"Enter the word to search - \")\n",
        "wordCount(filename,word)\n"
      ],
      "execution_count": 0,
      "outputs": [
        {
          "output_type": "stream",
          "text": [
            "Enter the file name - file1.txt\n",
            "Enter the word to search - This\n"
          ],
          "name": "stdout"
        },
        {
          "output_type": "execute_result",
          "data": {
            "text/plain": [
              "10"
            ]
          },
          "metadata": {
            "tags": []
          },
          "execution_count": 54
        }
      ]
    },
    {
      "cell_type": "code",
      "metadata": {
        "id": "dEJlJxBDfDaI",
        "colab_type": "code",
        "outputId": "1ffebb5b-5b91-4d9e-febd-96fff09a9b83",
        "colab": {
          "base_uri": "https://localhost:8080/",
          "height": 51
        }
      },
      "source": [
        "# character count from the given file\n",
        "\n",
        "def charCount(filename) :\n",
        "  with open(filename,'r') as f :\n",
        "    if f.mode == 'r':\n",
        "      x = f.read()\n",
        "      li = list(x)\n",
        "  return len(li)\n",
        "filename = input(\"Enter the filename - \")\n",
        "charCount(filename)\n"
      ],
      "execution_count": 0,
      "outputs": [
        {
          "output_type": "stream",
          "text": [
            "Enter the filename - file1.txt\n"
          ],
          "name": "stdout"
        },
        {
          "output_type": "execute_result",
          "data": {
            "text/plain": [
              "270"
            ]
          },
          "metadata": {
            "tags": []
          },
          "execution_count": 56
        }
      ]
    },
    {
      "cell_type": "code",
      "metadata": {
        "id": "HWFG34Dypymr",
        "colab_type": "code",
        "outputId": "248e4f8b-0f6b-4262-fb1f-27485cdd9818",
        "colab": {
          "base_uri": "https://localhost:8080/",
          "height": 51
        }
      },
      "source": [
        "# Function to find no. of lines in file \n",
        "\n",
        "def lineCount(finename) :\n",
        "  cnt = 0\n",
        "  with open(filename,'r') as f :\n",
        "    if f.mode == 'r':\n",
        "      x = f.read()\n",
        "      li = x.split(\"\\n\")\n",
        "  return len(li)\n",
        "filename = input(\"Enter the filename - \")\n",
        "lineCount(filename)\n"
      ],
      "execution_count": 0,
      "outputs": [
        {
          "output_type": "stream",
          "text": [
            "Enter the filename - file1.txt\n"
          ],
          "name": "stdout"
        },
        {
          "output_type": "execute_result",
          "data": {
            "text/plain": [
              "21"
            ]
          },
          "metadata": {
            "tags": []
          },
          "execution_count": 64
        }
      ]
    },
    {
      "cell_type": "code",
      "metadata": {
        "id": "hiFmSgFAtpgd",
        "colab_type": "code",
        "outputId": "fd5b7cf7-12da-4662-b057-cacd5b6b9442",
        "colab": {
          "base_uri": "https://localhost:8080/",
          "height": 51
        }
      },
      "source": [
        "# Function to find count of the upper and lower case characters in the file\n",
        "\n",
        "def caseCount(filename) :\n",
        "  ucnt = 0 \n",
        "  lcnt = 0\n",
        "  with open(filename,'r') as f :\n",
        "    if f.mode == 'r' :\n",
        "      x = f.read()\n",
        "      li = list(x)\n",
        "      \n",
        "  for i in li :\n",
        "    if i.isupper() :\n",
        "      ucnt += 1\n",
        "    elif i.islower() :\n",
        "      lcnt += 1\n",
        "  output = 'Upper case =  {0}, lower case = {1}'.format(ucnt,lcnt)\n",
        "  return output\n",
        "filename = input(\"Enter the filename - \"\n",
        "caseCount(filename)\n"
      ],
      "execution_count": 0,
      "outputs": [
        {
          "output_type": "stream",
          "text": [
            "Enter the filename - file1.txt\n"
          ],
          "name": "stdout"
        },
        {
          "output_type": "execute_result",
          "data": {
            "text/plain": [
              "'Upper case =  20, lower case = 150'"
            ]
          },
          "metadata": {
            "tags": []
          },
          "execution_count": 76
        }
      ]
    },
    {
      "cell_type": "markdown",
      "metadata": {
        "id": "7P0QpYC40E3d",
        "colab_type": "text"
      },
      "source": [
        "### math, random, os\n",
        "\n",
        "- os package contains the certain methods which works with OS\n",
        "\n",
        "\n",
        "## Operating System\n"
      ]
    },
    {
      "cell_type": "code",
      "metadata": {
        "id": "kAKMsi0H1FQR",
        "colab_type": "code",
        "outputId": "62d143a7-9cd1-423e-94fb-aa3e2f9225f0",
        "colab": {
          "base_uri": "https://localhost:8080/",
          "height": 34
        }
      },
      "source": [
        "ls"
      ],
      "execution_count": 0,
      "outputs": [
        {
          "output_type": "stream",
          "text": [
            "file1.txt  namedata.txt  \u001b[0m\u001b[01;34msample_data\u001b[0m/\n"
          ],
          "name": "stdout"
        }
      ]
    },
    {
      "cell_type": "code",
      "metadata": {
        "id": "zxebDsYH0Uj9",
        "colab_type": "code",
        "colab": {}
      },
      "source": [
        "# Jupyter!\n",
        "# import os\n",
        "# os.listdir('folder_name/')  --> listdir() -- ls\n",
        "# list of files in that folder in the local system\n",
        "\n",
        "li = os.listdir('Git/')\n",
        "for i in li :\n",
        "  print(i)\n",
        "# gives the list of all the files in this folder\n"
      ],
      "execution_count": 0,
      "outputs": []
    },
    {
      "cell_type": "markdown",
      "metadata": {
        "id": "UCup9M8F5Pa3",
        "colab_type": "text"
      },
      "source": [
        "- Older version of python -- os.listdir()\n",
        "- New version of Python -- os.scandir() and pathlib.Path()\n"
      ]
    },
    {
      "cell_type": "code",
      "metadata": {
        "id": "CqfJwHu427Av",
        "colab_type": "code",
        "colab": {}
      },
      "source": [
        "# Jupyter\n",
        "li = os.scandir('Git/')\n",
        "for i in li :\n",
        "  print(i)\n"
      ],
      "execution_count": 0,
      "outputs": []
    },
    {
      "cell_type": "code",
      "metadata": {
        "id": "xH1Asx0f6Ca_",
        "colab_type": "code",
        "colab": {}
      },
      "source": [
        "#Jupyter\n",
        "from pathlib import Path \n",
        "li = Path('Git/')\n",
        "for i in li.iterdir() :\n",
        "  print(i.name)\n",
        "  "
      ],
      "execution_count": 0,
      "outputs": []
    },
    {
      "cell_type": "code",
      "metadata": {
        "id": "yKVcRHIP6bKX",
        "colab_type": "code",
        "outputId": "a97db34d-8ef7-4aea-eca4-8a6fe9913574",
        "colab": {
          "base_uri": "https://localhost:8080/",
          "height": 34
        }
      },
      "source": [
        "set1= set()\n",
        "set1 = set(\"Pythonforcoding\")\n",
        "print(set1)\n"
      ],
      "execution_count": 0,
      "outputs": [
        {
          "output_type": "stream",
          "text": [
            "{'g', 't', 'o', 'h', 'i', 'c', 'r', 'P', 'f', 'n', 'd', 'y'}\n"
          ],
          "name": "stdout"
        }
      ]
    },
    {
      "cell_type": "markdown",
      "metadata": {
        "id": "CkL1iN9lLIwI",
        "colab_type": "text"
      },
      "source": [
        "### Listing all files in a Directory\n"
      ]
    },
    {
      "cell_type": "code",
      "metadata": {
        "id": "bnzyOO4yKjGF",
        "colab_type": "code",
        "colab": {}
      },
      "source": [
        "#Jupyter\n",
        "import os\n",
        "dirPath = \"Git/\"\n",
        "for i in os.listdir(dirPath) :  # listdir(dirPath) - All files and folders\n",
        "  if os.path.isfile(os.path.join(dirPath,i)) :\n",
        "    print(i)\n",
        "\n"
      ],
      "execution_count": 0,
      "outputs": []
    },
    {
      "cell_type": "code",
      "metadata": {
        "id": "R4UD2scwOKVV",
        "colab_type": "code",
        "colab": {}
      },
      "source": [
        "mkdir Python\n"
      ],
      "execution_count": 0,
      "outputs": []
    },
    {
      "cell_type": "code",
      "metadata": {
        "id": "nVLynhFVOQzo",
        "colab_type": "code",
        "outputId": "93a010d0-07c6-4da6-e2c7-78851f647b43",
        "colab": {
          "base_uri": "https://localhost:8080/",
          "height": 34
        }
      },
      "source": [
        "ls"
      ],
      "execution_count": 0,
      "outputs": [
        {
          "output_type": "stream",
          "text": [
            "file1.txt  namedata.txt  \u001b[0m\u001b[01;34mPython\u001b[0m/  \u001b[01;34msample_data\u001b[0m/\n"
          ],
          "name": "stdout"
        }
      ]
    },
    {
      "cell_type": "code",
      "metadata": {
        "id": "ebcpnt8zPRuO",
        "colab_type": "code",
        "outputId": "e9137ea7-fd50-41ec-c57d-542a3b9a82be",
        "colab": {
          "base_uri": "https://localhost:8080/",
          "height": 34
        }
      },
      "source": [
        "cd 'Python/'"
      ],
      "execution_count": 0,
      "outputs": [
        {
          "output_type": "stream",
          "text": [
            "/content/Python\n"
          ],
          "name": "stdout"
        }
      ]
    },
    {
      "cell_type": "code",
      "metadata": {
        "id": "gkFwKGGvPhx4",
        "colab_type": "code",
        "outputId": "8dcde961-483e-4848-8e39-5a5983c27001",
        "colab": {
          "base_uri": "https://localhost:8080/",
          "height": 34
        }
      },
      "source": [
        "pwd"
      ],
      "execution_count": 0,
      "outputs": [
        {
          "output_type": "execute_result",
          "data": {
            "text/plain": [
              "'/content/Python'"
            ]
          },
          "metadata": {
            "tags": []
          },
          "execution_count": 88
        }
      ]
    },
    {
      "cell_type": "code",
      "metadata": {
        "id": "KGHwqd91QI85",
        "colab_type": "code",
        "colab": {}
      },
      "source": [
        "# Jupyter\n",
        "dirPath = 'Git/'\n",
        "with os.scandir(dirPath) as f :\n",
        "  for i in f :\n",
        "    if i.is_file():\n",
        "      print(i.name)"
      ],
      "execution_count": 0,
      "outputs": []
    },
    {
      "cell_type": "code",
      "metadata": {
        "id": "5rt0dEkUQhfP",
        "colab_type": "code",
        "colab": {}
      },
      "source": [
        ""
      ],
      "execution_count": 0,
      "outputs": []
    },
    {
      "cell_type": "markdown",
      "metadata": {
        "id": "c7sHpnngRmhn",
        "colab_type": "text"
      },
      "source": [
        "### Listing subdirectories\n"
      ]
    },
    {
      "cell_type": "code",
      "metadata": {
        "id": "Mcmcn4OcRpyw",
        "colab_type": "code",
        "colab": {}
      },
      "source": [
        "# Jupyter\n",
        "dirPath = 'Git/'\n",
        "for i in os.listdir(dirPath) :\n",
        "  if os.path.isdir(os.path.join(dirPath,i)) :\n",
        "    print(i)\n"
      ],
      "execution_count": 0,
      "outputs": []
    },
    {
      "cell_type": "code",
      "metadata": {
        "id": "CqSZYB3TR9V2",
        "colab_type": "code",
        "colab": {}
      },
      "source": [
        "# Jupyter\n",
        "from pathlib import Path\n",
        "dirPath = Path('Git/')\n",
        "for i in dirPath.iterdir():\n",
        "  if i.is_dir():\n",
        "    print(i.name)\n"
      ],
      "execution_count": 0,
      "outputs": []
    },
    {
      "cell_type": "code",
      "metadata": {
        "id": "clZdPjbZSYBx",
        "colab_type": "code",
        "colab": {}
      },
      "source": [
        "# Jupyter\n",
        "dirPath = 'Git/'\n",
        "with os.scandir(dirPath) as f :\n",
        "  for i in f :\n",
        "    if i.is_dir() :\n",
        "      print(i.name)\n",
        "      \n"
      ],
      "execution_count": 0,
      "outputs": []
    },
    {
      "cell_type": "markdown",
      "metadata": {
        "id": "jths-IdQUNcB",
        "colab_type": "text"
      },
      "source": [
        "### Creating a single Directory"
      ]
    },
    {
      "cell_type": "code",
      "metadata": {
        "id": "hNDDv72ZT7Xg",
        "colab_type": "code",
        "colab": {}
      },
      "source": [
        "os.mkdir('SingleDirectory')\n"
      ],
      "execution_count": 0,
      "outputs": []
    },
    {
      "cell_type": "code",
      "metadata": {
        "id": "exv5bu_bUGum",
        "colab_type": "code",
        "outputId": "9b3a6ac1-c88c-4f71-d57b-16dfe89f6934",
        "colab": {
          "base_uri": "https://localhost:8080/",
          "height": 34
        }
      },
      "source": [
        "ls\n"
      ],
      "execution_count": 0,
      "outputs": [
        {
          "output_type": "stream",
          "text": [
            "\u001b[0m\u001b[01;34mSingleDirectory\u001b[0m/\n"
          ],
          "name": "stdout"
        }
      ]
    },
    {
      "cell_type": "code",
      "metadata": {
        "id": "PHhA2Z4zUKXZ",
        "colab_type": "code",
        "colab": {}
      },
      "source": [
        "import pathlib\n",
        "p = pathlib.Path('TestFolder')\n",
        "p.mkdir()\n"
      ],
      "execution_count": 0,
      "outputs": []
    },
    {
      "cell_type": "code",
      "metadata": {
        "id": "ceUUJo_UUnjL",
        "colab_type": "code",
        "outputId": "8dbc6fcf-aafa-4e1c-b36b-1e893325858e",
        "colab": {
          "base_uri": "https://localhost:8080/",
          "height": 34
        }
      },
      "source": [
        "ls"
      ],
      "execution_count": 0,
      "outputs": [
        {
          "output_type": "stream",
          "text": [
            "\u001b[0m\u001b[01;34mSingleDirectory\u001b[0m/  \u001b[01;34mTestFolder\u001b[0m/\n"
          ],
          "name": "stdout"
        }
      ]
    },
    {
      "cell_type": "markdown",
      "metadata": {
        "id": "7VPWuIMGWUaz",
        "colab_type": "text"
      },
      "source": [
        "###Creating multiple directories\n"
      ]
    },
    {
      "cell_type": "code",
      "metadata": {
        "id": "A5tBnxTYWXl7",
        "colab_type": "code",
        "colab": {}
      },
      "source": [
        "import os\n",
        "os.makedirs('2019/July/11')\n"
      ],
      "execution_count": 0,
      "outputs": []
    },
    {
      "cell_type": "code",
      "metadata": {
        "id": "dsbLW0EQXsD4",
        "colab_type": "code",
        "outputId": "7875dfdb-8ce2-4247-fe83-7a809ca2e542",
        "colab": {
          "base_uri": "https://localhost:8080/",
          "height": 34
        }
      },
      "source": [
        "ls"
      ],
      "execution_count": 0,
      "outputs": [
        {
          "output_type": "stream",
          "text": [
            "\u001b[0m\u001b[01;34m2019\u001b[0m/  \u001b[01;34mSingleDirectory\u001b[0m/  \u001b[01;34mTestFolder\u001b[0m/\n"
          ],
          "name": "stdout"
        }
      ]
    },
    {
      "cell_type": "markdown",
      "metadata": {
        "id": "So6E7G9MYW9q",
        "colab_type": "text"
      },
      "source": [
        "### Filename Pattern Matching\n"
      ]
    },
    {
      "cell_type": "code",
      "metadata": {
        "id": "35O-MM3xYVOu",
        "colab_type": "code",
        "colab": {}
      },
      "source": [
        "# Jupyter\n",
        "import os\n",
        "dirPath = 'Git/'\n",
        "for f_name in os.listdir(dirPath) :\n",
        "  if f_name.endswith('.ipynb') :\n",
        "    print(f_name)\n"
      ],
      "execution_count": 0,
      "outputs": []
    },
    {
      "cell_type": "code",
      "metadata": {
        "id": "J6rjKbWWZF9S",
        "colab_type": "code",
        "colab": {}
      },
      "source": [
        "# Jupyter\n",
        "import os\n",
        "dirPath = 'Git/'\n",
        "for f_name in os.listdir(dirPath) :\n",
        "  if f_name.startswith('05') :\n",
        "    print(f_name)\n"
      ],
      "execution_count": 0,
      "outputs": []
    },
    {
      "cell_type": "markdown",
      "metadata": {
        "id": "afU1o-3ialYR",
        "colab_type": "text"
      },
      "source": [
        "### Deleting Files and Directories\n"
      ]
    },
    {
      "cell_type": "code",
      "metadata": {
        "id": "ez4iEaVwbOfR",
        "colab_type": "code",
        "colab": {}
      },
      "source": [
        "ls"
      ],
      "execution_count": 0,
      "outputs": []
    },
    {
      "cell_type": "code",
      "metadata": {
        "id": "GKGtVaa6adxk",
        "colab_type": "code",
        "colab": {}
      },
      "source": [
        "import os\n",
        "data_file = 'file1.txt'  # Give the entire path as filename for deleting from local system\n",
        "os.remove(data_file)\n",
        "print(\"Deleted \", data_file)\n"
      ],
      "execution_count": 0,
      "outputs": []
    },
    {
      "cell_type": "code",
      "metadata": {
        "id": "QQ-2EawGcpXT",
        "colab_type": "code",
        "outputId": "070db822-2163-45bd-b5c8-3057182eab4f",
        "colab": {
          "base_uri": "https://localhost:8080/",
          "height": 34
        }
      },
      "source": [
        "ls\n"
      ],
      "execution_count": 0,
      "outputs": [
        {
          "output_type": "stream",
          "text": [
            "\u001b[0m\u001b[01;34m2019\u001b[0m/  \u001b[01;34mSingleDirectory\u001b[0m/  \u001b[01;34mTestFolder\u001b[0m/\n"
          ],
          "name": "stdout"
        }
      ]
    },
    {
      "cell_type": "code",
      "metadata": {
        "id": "giMsW2XkcuYU",
        "colab_type": "code",
        "colab": {}
      },
      "source": [
        "data_dir = 'TestFolder'\n",
        "os.rmdir(data_dir)\n"
      ],
      "execution_count": 0,
      "outputs": []
    },
    {
      "cell_type": "code",
      "metadata": {
        "id": "ql6BIiLadKBN",
        "colab_type": "code",
        "outputId": "f078955c-0ce3-440b-c383-938b66872130",
        "colab": {
          "base_uri": "https://localhost:8080/",
          "height": 34
        }
      },
      "source": [
        "ls"
      ],
      "execution_count": 0,
      "outputs": [
        {
          "output_type": "stream",
          "text": [
            "\u001b[0m\u001b[01;34m2019\u001b[0m/  \u001b[01;34mSingleDirectory\u001b[0m/\n"
          ],
          "name": "stdout"
        }
      ]
    },
    {
      "cell_type": "code",
      "metadata": {
        "id": "6ooWwK33dMhM",
        "colab_type": "code",
        "colab": {}
      },
      "source": [
        "import shutil  # delete the tree of structure of folder\n",
        "data_dir = '2019'\n",
        "shutil.rmtree(data_dir)"
      ],
      "execution_count": 0,
      "outputs": []
    },
    {
      "cell_type": "code",
      "metadata": {
        "id": "ZZqdBbjod_xr",
        "colab_type": "code",
        "outputId": "fe39ede6-43a3-4210-c787-98eae7d4d6f2",
        "colab": {
          "base_uri": "https://localhost:8080/",
          "height": 34
        }
      },
      "source": [
        "ls\n"
      ],
      "execution_count": 0,
      "outputs": [
        {
          "output_type": "stream",
          "text": [
            "\u001b[0m\u001b[01;34mSingleDirectory\u001b[0m/\n"
          ],
          "name": "stdout"
        }
      ]
    },
    {
      "cell_type": "markdown",
      "metadata": {
        "id": "R42-uz2_fzLA",
        "colab_type": "text"
      },
      "source": [
        "### Regular Expressions\n",
        " - Used for specific pattern matching\n",
        " - Symbolic notations of patterns\n",
        "   \n",
        "   -  Patterns (RE) represents set of the values\n",
        "   \n",
        "* regexpal.com  -  test for regular expressions\n",
        "\n",
        "\n",
        "Regex - \n",
        "[0-9] - test\n",
        "\n",
        "1, 2, 8, 4  - input\n",
        "\n",
        "[0-9] [2]  -- accepts a two digit number ending with 2\n",
        "\n",
        "[0-9] {2} -- accepts any two digit number\n",
        "\n",
        "[0-9] {2} $ -- accept only the last two digits of any number\n",
        "\n"
      ]
    },
    {
      "cell_type": "code",
      "metadata": {
        "id": "GPx94pdEf3L_",
        "colab_type": "code",
        "colab": {}
      },
      "source": [
        ""
      ],
      "execution_count": 0,
      "outputs": []
    }
  ]
}