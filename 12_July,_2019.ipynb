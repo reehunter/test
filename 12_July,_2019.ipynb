{
  "nbformat": 4,
  "nbformat_minor": 0,
  "metadata": {
    "colab": {
      "name": "12 July, 2019",
      "version": "0.3.2",
      "provenance": [],
      "collapsed_sections": [],
      "include_colab_link": true
    },
    "kernelspec": {
      "name": "python3",
      "display_name": "Python 3"
    }
  },
  "cells": [
    {
      "cell_type": "markdown",
      "metadata": {
        "id": "view-in-github",
        "colab_type": "text"
      },
      "source": [
        "<a href=\"https://colab.research.google.com/github/reehunter/test/blob/master/12_July%2C_2019.ipynb\" target=\"_parent\"><img src=\"https://colab.research.google.com/assets/colab-badge.svg\" alt=\"Open In Colab\"/></a>"
      ]
    },
    {
      "cell_type": "markdown",
      "metadata": {
        "id": "_1cI-dToR52h",
        "colab_type": "text"
      },
      "source": [
        "### Regular Expression\n",
        "\n",
        "- Pattern Matching \n",
        "- Patterns (re) package\n",
        "- Cap symbol is used to represent the \n",
        "- [0-9] --> Any digit matching\n",
        "\n",
        "\n",
        "Regex - \n",
        "\n",
        "[0-9] - test\n",
        "\n",
        "1, 2, 8, 4  - input\n",
        "\n",
        "[0-9] [2]  -- accepts a two digit number ending with 2\n",
        "\n",
        "[0-9] {2} -- accepts any two digit number\n",
        "\n",
        "[0-9] {2} $ -- accept only the last two digits of any number  <br/>\n",
        "\n",
        "  (^[0-9]{2}$)  \n",
        "\n",
        "  ^  - start\n",
        "\n",
        "  0-9  - range\n",
        "\n",
        "  {2}  - two digits \n",
        "\n",
        "  $  - end\n",
        "  \n",
        "\n"
      ]
    },
    {
      "cell_type": "markdown",
      "metadata": {
        "id": "XIcyhxwZYTpu",
        "colab_type": "text"
      },
      "source": [
        "### Regular Expression for characters \n",
        "\n",
        "- [a-z] --> Any lower case characters\n",
        "- [A-Z] --> Any upper case characters\n",
        "- ^[a-z]{5}$ --> It accepts 5 lower case characters \n",
        "- ^[a-zA-Z]{8}$ --> Accepts 8 characters, lower and upper case\n",
        "- ^[a-zA-Z0-9]{8}$ --> Accepts 8 characters of upper, lower, or numbers\n",
        "\n",
        "- ...\n",
        "- ^[a-z][a-k]{13}$\n"
      ]
    },
    {
      "cell_type": "code",
      "metadata": {
        "id": "ErDA8M4gUcnY",
        "colab_type": "code",
        "outputId": "0d2ab01f-6e57-424e-dc88-a05d885550c7",
        "colab": {
          "base_uri": "https://localhost:8080/",
          "height": 51
        }
      },
      "source": [
        "# Function to test two digit no. matching\n",
        "\n",
        "import re\n",
        "def twoDigitM(n) :\n",
        "  pattern = '^[0-9]{2}$' \n",
        "  n = str(n)\n",
        "  if re.match(pattern,n) :\n",
        "    return True \n",
        "  return False\n",
        "\n",
        "print(twoDigitM(12)) \n",
        "print(twoDigitM(123)) \n"
      ],
      "execution_count": 0,
      "outputs": [
        {
          "output_type": "stream",
          "text": [
            "True\n",
            "False\n"
          ],
          "name": "stdout"
        }
      ]
    },
    {
      "cell_type": "code",
      "metadata": {
        "id": "Toed0GVDXfco",
        "colab_type": "code",
        "outputId": "c65e3957-e9f8-440b-ed91-f30333ea8818",
        "colab": {
          "base_uri": "https://localhost:8080/",
          "height": 51
        }
      },
      "source": [
        "# Function to define to test username having 8 characters \n",
        "# Upper case and lower\n",
        "\n",
        "def testUsername(s) :\n",
        "  pattern = '^[a-zA-Z]{8}$'\n",
        "  if re.match(pattern,s) :\n",
        "    return True\n",
        "  return False\n",
        "\n",
        "print(testUsername('GitamHYD'))\n",
        "print(testUsername('Gitam188'))\n"
      ],
      "execution_count": 0,
      "outputs": [
        {
          "output_type": "stream",
          "text": [
            "True\n",
            "False\n"
          ],
          "name": "stdout"
        }
      ]
    },
    {
      "cell_type": "markdown",
      "metadata": {
        "id": "Hi9BWA_scsUp",
        "colab_type": "text"
      },
      "source": [
        "### Regular expression to match the Indian Mobile no.\n",
        "\n",
        "- 10 digits \n",
        "- First digit - [6-9]\n",
        "- rest 9 digits - [0-9]\n",
        "- ex: 9988776655\n",
        "\n",
        "- Re  -  ^[6-9][0-9]{9}$ \n",
        "\n",
        "- Example - 09988776655 (Re - Cap[0][6-9][0-9]$)\n",
        "\n",
        "- ^[+][9][1][6-9][0-9]{9}$\n",
        "  - for Indian no. internationally\n",
        "  ex: +919731494949\n",
        "  \n",
        "  \n",
        "  \n"
      ]
    },
    {
      "cell_type": "code",
      "metadata": {
        "id": "8S6LfMjYgNhe",
        "colab_type": "code",
        "outputId": "f0beed34-6b65-46a6-fde8-61ab8289e6b9",
        "colab": {
          "base_uri": "https://localhost:8080/",
          "height": 51
        }
      },
      "source": [
        "# Function to validate the Indian phone number\n",
        "\n",
        "def phNo(phone) :\n",
        "  pattern =  '^[+][9][1][6-9][0-9]{9}$|[0][6-9][0-9]{9}$|[6-9][0-9]{9}$'\n",
        "  phone= str(phone)\n",
        "  if re.match(pattern, phone) :\n",
        "    return True\n",
        "  return False\n",
        "\n",
        "print(phNo(9988776655))\n",
        "print(phNo('+919988776655'))\n"
      ],
      "execution_count": 0,
      "outputs": [
        {
          "output_type": "stream",
          "text": [
            "True\n",
            "True\n"
          ],
          "name": "stdout"
        }
      ]
    },
    {
      "cell_type": "markdown",
      "metadata": {
        "id": "n5aARB8RkDdl",
        "colab_type": "text"
      },
      "source": [
        "R E to validate Roll Number\n",
        "\n",
        "- ex: 1521A0501\n",
        "- ex: 1521A0109\n",
        "- ex: 1521A0499\n",
        "^[0-9]{4}[A][0-9]{4}\n",
        "\n",
        "R E to validate the password \n",
        "- Parameters : length Min 6 characters and Max 15 characters\n",
        "- Accept lower case, upper case, digits, spl char (@,#,!)\n",
        "^[a-zA-Z0-9@#!]{6,15}"
      ]
    },
    {
      "cell_type": "code",
      "metadata": {
        "id": "gpSBrwEpnjrf",
        "colab_type": "code",
        "outputId": "10832d94-055a-4838-d27b-38bdf7616588",
        "colab": {
          "base_uri": "https://localhost:8080/",
          "height": 51
        }
      },
      "source": [
        "def Rno(n) :\n",
        "  pattern =  '^[0-9]{4}[A][0-9]{4}'\n",
        "  n = str(n)\n",
        "  if re.match(pattern, n) :\n",
        "    return True\n",
        "  return False\n",
        "\n",
        "print(Rno('1521A1090'))\n",
        "print(Rno('23456765A'))\n"
      ],
      "execution_count": 0,
      "outputs": [
        {
          "output_type": "stream",
          "text": [
            "True\n",
            "False\n"
          ],
          "name": "stdout"
        }
      ]
    },
    {
      "cell_type": "code",
      "metadata": {
        "id": "qdqXQNFHj8CV",
        "colab_type": "code",
        "outputId": "38737102-7225-4b99-9eb7-f0a5f27460ce",
        "colab": {
          "base_uri": "https://localhost:8080/",
          "height": 51
        }
      },
      "source": [
        "\n",
        "def password(p) :\n",
        "  pattern = '^[a-zA-Z0-9@#!]{6,15}'\n",
        "  p = str(p)\n",
        "  if re.match(pattern, p) :\n",
        "    return True\n",
        "  return False\n",
        "\n",
        "print(password('asdf#ryuy'))\n",
        "print(password('qwertyuiop.iuytrewoiuy.oiuytrewrtyuio.oiuytrew.'))  # CHECK"
      ],
      "execution_count": 0,
      "outputs": [
        {
          "output_type": "stream",
          "text": [
            "True\n",
            "True\n"
          ],
          "name": "stdout"
        }
      ]
    },
    {
      "cell_type": "code",
      "metadata": {
        "id": "2QQ0GuRsiZUQ",
        "colab_type": "code",
        "outputId": "c3e8efa0-e7e0-4974-a7c8-ebc9bd8c424a",
        "colab": {
          "base_uri": "https://localhost:8080/",
          "height": 85
        }
      },
      "source": [
        "# Function for mail ID\n",
        "\n",
        "def mailID(m) :\n",
        "  pattern =  '^[a-zA-Z0-9.]{1,64}[@][a-z0-9]{1,64}[.][a-z]{2,4}$'\n",
        "  #m = str(m)\n",
        "  if re.match(pattern, m) :\n",
        "    return True\n",
        "  return False\n",
        "\n",
        "print(mailID('asdfg.asdfg@asdfg.com'))\n",
        "print(mailID('123@123.com'))\n",
        "print(mailID('@m.com'))\n",
        "print(mailID('123@abc.com'))\n"
      ],
      "execution_count": 0,
      "outputs": [
        {
          "output_type": "stream",
          "text": [
            "True\n",
            "True\n",
            "False\n",
            "True\n"
          ],
          "name": "stdout"
        }
      ]
    },
    {
      "cell_type": "code",
      "metadata": {
        "id": "1j9cGupRzkLj",
        "colab_type": "code",
        "outputId": "4e3f79f3-edce-4cd0-afec-f8c13b9b7690",
        "colab": {
          "base_uri": "https://localhost:8080/",
          "height": 68
        }
      },
      "source": [
        "# Date format \n",
        "\n",
        "def date(d) :\n",
        "  pattern = '^[0-9]{2}[/][1-12]{2}[/][0-9]{4}|^[0-9]{2}[-][1-12]{2}[-][0-9]{4}|^[0-9]{2}[ ][A-Z][a-z]{2}[ ][0-9]{4}'\n",
        "  if re.match(pattern, d) :\n",
        "    return True\n",
        "  return False\n",
        "\n",
        "print(date('22-12-1999'))\n",
        "print(date('22 Dec 1999'))\n",
        "print(date('Dec 22 1999'))\n"
      ],
      "execution_count": 0,
      "outputs": [
        {
          "output_type": "stream",
          "text": [
            "True\n",
            "True\n",
            "False\n"
          ],
          "name": "stdout"
        }
      ]
    },
    {
      "cell_type": "code",
      "metadata": {
        "id": "AVIAk7nq2B3g",
        "colab_type": "code",
        "colab": {}
      },
      "source": [
        "# time format \n",
        "# ^[0-9]{2}[:][0-9]{2}\n"
      ],
      "execution_count": 0,
      "outputs": []
    },
    {
      "cell_type": "markdown",
      "metadata": {
        "id": "hgcDIgT96-ne",
        "colab_type": "text"
      },
      "source": [
        "### Python Turtle\n",
        "\n",
        "- Turtle Graphics\n"
      ]
    },
    {
      "cell_type": "code",
      "metadata": {
        "id": "ETMkllHg6-Lt",
        "colab_type": "code",
        "colab": {}
      },
      "source": [
        "# Jupyter\n",
        "\n",
        "# Step - 1  : Make all the turtle package to be imported\n",
        "import turtle\n",
        "\n",
        "# Turtle method to creates and returns a new object\n",
        "a1 = turtle.Turtle()\n",
        "\n",
        "# forward() method moves 100 pixels\n",
        "turtle.forward(250)\n",
        "\n",
        "# We are done\n",
        "turtle.done()\n"
      ],
      "execution_count": 0,
      "outputs": []
    },
    {
      "cell_type": "code",
      "metadata": {
        "id": "YoujTfb484_j",
        "colab_type": "code",
        "colab": {}
      },
      "source": [
        "# Move in reverse direction\n",
        "import turtle as tt\n",
        "a1 = tt.Turtle()\n",
        "a1.backward(100)\n",
        "tt.done()\n"
      ],
      "execution_count": 0,
      "outputs": []
    },
    {
      "cell_type": "code",
      "metadata": {
        "id": "1NWggEdZ95q3",
        "colab_type": "code",
        "colab": {}
      },
      "source": [
        "# Draw Square\n",
        "import turtle as tt\n",
        "a1 = tt.Turtle()\n",
        "for x in range(4) :\n",
        "  a1.forward(100)\n",
        "  a1.right(90)\n",
        "tt.done()\n"
      ],
      "execution_count": 0,
      "outputs": []
    },
    {
      "cell_type": "code",
      "metadata": {
        "id": "HZvydpx9DH--",
        "colab_type": "code",
        "colab": {}
      },
      "source": [
        "# Draw Star\n",
        "import turtle as tt\n",
        "a1 = tt.Turtle()\n",
        "for x in range(40) :\n",
        "  a1.forward(50)\n",
        "  a1.right(144)\n",
        "tt.done()\n"
      ],
      "execution_count": 0,
      "outputs": []
    },
    {
      "cell_type": "code",
      "metadata": {
        "id": "abnWMag6GwSZ",
        "colab_type": "code",
        "colab": {}
      },
      "source": [
        "# Square in motion\n",
        "import turtle as tt\n",
        "a1 = tt.Turtle()\n",
        "for i in range(7):\n",
        "    for x in range(4) :\n",
        "        a1.forward(100)\n",
        "        a1.left(90)\n",
        "    a1.left(15)\n",
        "tt.done()"
      ],
      "execution_count": 0,
      "outputs": []
    },
    {
      "cell_type": "code",
      "metadata": {
        "id": "_qdkfZVmYPvR",
        "colab_type": "code",
        "colab": {}
      },
      "source": [
        "# Formation of a spiral with a square\n",
        "import turtle as tt\n",
        "a1 = tt.Turtle()\n",
        "a1.pencolor('blue') \n",
        "for i in range(250):\n",
        "        a1.forward(i)\n",
        "        a1.left(91)\n",
        "tt.done()"
      ],
      "execution_count": 0,
      "outputs": []
    },
    {
      "cell_type": "code",
      "metadata": {
        "id": "t4v0wHABYaSD",
        "colab_type": "code",
        "colab": {}
      },
      "source": [
        "# Formation of a spiral with a Hexagon\n",
        "from turtle import *\n",
        "color = ['blue','green','yellow','orange','purple','red']\n",
        "for x in range(360):\n",
        "    pencolor(color[x%6])\n",
        "    width(x/100 + 1)\n",
        "    forward(x)\n",
        "    left(59)"
      ],
      "execution_count": 0,
      "outputs": []
    },
    {
      "cell_type": "code",
      "metadata": {
        "id": "OsAz_P3ma9wf",
        "colab_type": "code",
        "colab": {}
      },
      "source": [
        "# goto function\n",
        "\n",
        "from turtle import *\n",
        "goto(50,50)\n",
        "goto(-50,50)\n",
        "goto(100,-50)\n",
        "goto(-50,-50)\n",
        "\n"
      ],
      "execution_count": 0,
      "outputs": []
    },
    {
      "cell_type": "code",
      "metadata": {
        "id": "MvTeDjPIa-bg",
        "colab_type": "code",
        "colab": {}
      },
      "source": [
        "# setheading(heading)\n",
        "# will change the current direction to the heading angle\n",
        "\n",
        "from turtle import * \n",
        "color = ['blue', 'red', 'green', 'orange', 'yellow']\n",
        "for angle in range(0,360,15) :\n",
        "  setheading(angle)\n",
        "  forward(100)\n",
        "  write(str(angle)+ 'o')\n",
        "  backward(100)"
      ],
      "execution_count": 0,
      "outputs": []
    },
    {
      "cell_type": "code",
      "metadata": {
        "id": "MAzIaaeodEV_",
        "colab_type": "code",
        "colab": {}
      },
      "source": [
        "# undo() function will undo the last turtle action  \n",
        "from turtle import *\n",
        "pencolor('blue')\n",
        "for i in range(20) :\n",
        "    forward(10)\n",
        "    left(90)\n",
        "    forward(10)\n",
        "    left(90)\n",
        "    forward(10)\n",
        "    right(90)\n",
        "    forward(10)\n",
        "    right(90)\n",
        "pencolor('red')\n",
        "for i in range(90) :\n",
        "    undo()"
      ],
      "execution_count": 0,
      "outputs": []
    },
    {
      "cell_type": "code",
      "metadata": {
        "id": "OJCd6_lne6Tq",
        "colab_type": "code",
        "colab": {}
      },
      "source": [
        "# M\n",
        "from turtle import *\n",
        "pensize(50)\n",
        "pencolor('blue')\n",
        "forward(250)\n",
        "pencolor(0,1,0,0)\n",
        "forward(250)\n",
        "pensize(10)\n",
        "goto(-400,50)\n",
        "\n",
        "\n",
        "for red in range(4) :\n",
        "    for green in range(4) :\n",
        "        for blue in range(4) :\n",
        "            pencolor(red/4.0,green/4.0,blue/4.0)\n",
        "            forward(10)"
      ],
      "execution_count": 0,
      "outputs": []
    },
    {
      "cell_type": "code",
      "metadata": {
        "id": "icrzMXUzhCVY",
        "colab_type": "code",
        "colab": {}
      },
      "source": [
        "# Generate a rectangle\n",
        "# Generate a circle\n",
        "# Fill the colors into rectangle and circle\n",
        "# fillcolor('color')\n",
        "# Generate some stars\n",
        "# stamp()\n"
      ],
      "execution_count": 0,
      "outputs": []
    }
  ]
}