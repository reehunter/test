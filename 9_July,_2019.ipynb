{
  "nbformat": 4,
  "nbformat_minor": 0,
  "metadata": {
    "colab": {
      "name": "9 July, 2019",
      "version": "0.3.2",
      "provenance": [],
      "include_colab_link": true
    },
    "kernelspec": {
      "name": "python3",
      "display_name": "Python 3"
    }
  },
  "cells": [
    {
      "cell_type": "markdown",
      "metadata": {
        "id": "view-in-github",
        "colab_type": "text"
      },
      "source": [
        "<a href=\"https://colab.research.google.com/github/reehunter/test/blob/master/9_July%2C_2019.ipynb\" target=\"_parent\"><img src=\"https://colab.research.google.com/assets/colab-badge.svg\" alt=\"Open In Colab\"/></a>"
      ]
    },
    {
      "cell_type": "markdown",
      "metadata": {
        "id": "3ojvWOFz1fwd",
        "colab_type": "text"
      },
      "source": [
        "## Data Structures\n",
        "\n",
        "- Lists \n",
        "- Tuples \n",
        "- Dictionaries\n",
        "\n",
        "\n",
        "\n",
        "* Basic program sets on Data structures\n",
        "* Advanced problem set\n",
        "* Contact application (dictionary object)\n",
        "\n",
        "\n",
        "### Data Structures\n",
        "- To store, search and sort the data\n",
        "\n"
      ]
    },
    {
      "cell_type": "markdown",
      "metadata": {
        "id": "nmtGVR8j2fY_",
        "colab_type": "text"
      },
      "source": [
        "###Python Data Structures\n",
        "\n",
        "- Lists\n",
        "\n",
        "   Its one of the common data structures supported by Python, the list items are separated by comma operator and enclosed in square brackets.\n",
        "   \n",
        " * Example :-  \n",
        " \n",
        " list1 = [1,2,6,8]\n",
        " list2 = [ \"Gitam\", 10, 12, 15.5, \"Hyderabad\"]\n",
        " \n",
        " "
      ]
    },
    {
      "cell_type": "code",
      "metadata": {
        "id": "61MTC3xO1_qZ",
        "colab_type": "code",
        "outputId": "2733a2dc-e79c-48f3-e68a-34c610bda679",
        "colab": {
          "base_uri": "https://localhost:8080/",
          "height": 102
        }
      },
      "source": [
        "list = [32, 45, 67, 90]\n",
        "print(list)  # Access the entire list\n",
        "print(list[0])  # Access the first \n",
        "print(list[-1])  # Access the last item\n",
        "print(list[1:])  # Leaving the first one\n",
        "print(list[1:4])  # Leaving the 1 till 4\n",
        "\n",
        "\n"
      ],
      "execution_count": 0,
      "outputs": [
        {
          "output_type": "stream",
          "text": [
            "[32, 45, 67, 90]\n",
            "32\n",
            "90\n",
            "[45, 67, 90]\n",
            "[45, 67, 90]\n"
          ],
          "name": "stdout"
        }
      ]
    },
    {
      "cell_type": "code",
      "metadata": {
        "id": "lF0mW1me6V9q",
        "colab_type": "code",
        "outputId": "1c98dc60-8436-48ec-db93-c3ab3ad66348",
        "colab": {
          "base_uri": "https://localhost:8080/",
          "height": 51
        }
      },
      "source": [
        "# Update list items using index (Direct Referencing)\n",
        "\n",
        "li = [\"Gitam\", \"Python\", 1989, 2002]\n",
        "print(li)\n",
        "li[2] = 2019\n",
        "print(li)\n"
      ],
      "execution_count": 0,
      "outputs": [
        {
          "output_type": "stream",
          "text": [
            "['Gitam', 'Python', 1989, 2002]\n",
            "['Gitam', 'Python', 2019, 2002]\n"
          ],
          "name": "stdout"
        }
      ]
    },
    {
      "cell_type": "code",
      "metadata": {
        "id": "BPGqlAmB6pe2",
        "colab_type": "code",
        "outputId": "bf0c558e-6966-405c-bc31-cd9cd7bec8f6",
        "colab": {
          "base_uri": "https://localhost:8080/",
          "height": 51
        }
      },
      "source": [
        "# delete specific item in list\n",
        "\n",
        "print(li)\n",
        "del li[2]\n",
        "print(li)\n"
      ],
      "execution_count": 0,
      "outputs": [
        {
          "output_type": "stream",
          "text": [
            "['Gitam', 'Python', 2019, 2002]\n",
            "['Gitam', 'Python', 2002]\n"
          ],
          "name": "stdout"
        }
      ]
    },
    {
      "cell_type": "code",
      "metadata": {
        "id": "yZN0MRn176tc",
        "colab_type": "code",
        "outputId": "9d5df76d-c78d-412a-f3ba-b91f4491962f",
        "colab": {
          "base_uri": "https://localhost:8080/",
          "height": 119
        }
      },
      "source": [
        "# Basic List Operations\n",
        "\n",
        "lt = [1, 9, 6, 8, 12]\n",
        "print(lt)\n",
        "print(len(lt))  # Length f list\n",
        "print(lt * 2)  # Repetetion\n",
        "print(9 in lt)  # Check if no. is present in list\n",
        "print(15 in lt)\n",
        "\n",
        "for x in range(len(lt)) :\n",
        "  print(lt[x], end = \" \")\n",
        "\n"
      ],
      "execution_count": 0,
      "outputs": [
        {
          "output_type": "stream",
          "text": [
            "[1, 9, 6, 8, 12]\n",
            "5\n",
            "[1, 9, 6, 8, 12, 1, 9, 6, 8, 12]\n",
            "True\n",
            "False\n",
            "1 9 6 8 12 "
          ],
          "name": "stdout"
        }
      ]
    },
    {
      "cell_type": "markdown",
      "metadata": {
        "id": "Uen-5ApV91J1",
        "colab_type": "text"
      },
      "source": [
        ""
      ]
    },
    {
      "cell_type": "code",
      "metadata": {
        "id": "fCrXfeCp924R",
        "colab_type": "code",
        "outputId": "ff4186c3-8d13-4eea-b2e4-c2ffb51bb0c7",
        "colab": {
          "base_uri": "https://localhost:8080/",
          "height": 170
        }
      },
      "source": [
        "# Functions of Lists\n",
        "\n",
        "lt\n",
        "print(lt)\n",
        "print(min(lt))\n",
        "print(max(lt))\n",
        "print(sum(lt))  # Sum, of all elements in list\n",
        "print(sum(lt)//len(lt))  # Average of elements\n",
        "print(sum(lt[1::2])/len(lt[1::2]))  #Average of alternate elements\n",
        "print(\" \")\n",
        "print(sum(lt[1::2]))\n",
        "print(len(lt[1::2]))  # leaves the first one and starts to alternate\n"
      ],
      "execution_count": 0,
      "outputs": [
        {
          "output_type": "stream",
          "text": [
            "[1, 9, 6, 8, 12]\n",
            "1\n",
            "12\n",
            "36\n",
            "7\n",
            "8.5\n",
            " \n",
            "17\n",
            "2\n"
          ],
          "name": "stdout"
        }
      ]
    },
    {
      "cell_type": "code",
      "metadata": {
        "id": "8O7zZ1OI-8Ug",
        "colab_type": "code",
        "outputId": "d99ef65e-b1f9-488f-f367-68b17409cfcc",
        "colab": {
          "base_uri": "https://localhost:8080/",
          "height": 34
        }
      },
      "source": [
        "# METHODS of list objects\n",
        "lt\n",
        "lt.append(24)  # Adds element at the end of list\n",
        "lt\n",
        "lt.insert(2,56)  # Adds element at the specified position - here, the 2nd postition, the third element in list\n",
        "# print(lt)\n",
        "lt.count(10)# Returns the value how many times the object is repeated \n",
        "lt.index(56)  # Shows the postion of specified element\n",
        "\n",
        "lt.sort()  # sorts in ascending order\n",
        "lt\n",
        "lt.pop()  # removes last element in list\n",
        "lt.pop(1)  # removes element from particular index\n",
        "\n",
        "lt2 = [123, 23, 45]\n",
        "lt2\n",
        "lt.extend(lt2)  # Merge the list 2 with list 1\n",
        "lt\n",
        "lt.reverse()\n",
        "lt\n",
        "lt.remove(123)  # removes it from the list\n",
        "lt\n",
        "\n"
      ],
      "execution_count": 0,
      "outputs": [
        {
          "output_type": "execute_result",
          "data": {
            "text/plain": [
              "[45, 23, 56, 45, 45, 24, 24, 24, 23, 23, 9, 8, 1]"
            ]
          },
          "metadata": {
            "tags": []
          },
          "execution_count": 50
        }
      ]
    },
    {
      "cell_type": "code",
      "metadata": {
        "id": "cgOelyM1Eb5d",
        "colab_type": "code",
        "outputId": "d9f61cdf-7ed0-4c34-8b6e-0cae227660f9",
        "colab": {
          "base_uri": "https://localhost:8080/",
          "height": 85
        }
      },
      "source": [
        "lt = [1,9,8,2,6,3]\n",
        "print(lt[-1::])\n",
        "print(lt[::-2])  # reverse alternating\n",
        "print(lt[2::-2])  # starts in reverse direction from 2nd index\n",
        "print(lt[-1:2:-2])  # -1 - last index, -2 - last, reverse direction, 2 - stop till index number  --- ?"
      ],
      "execution_count": 0,
      "outputs": [
        {
          "output_type": "stream",
          "text": [
            "[3]\n",
            "[3, 2, 9]\n",
            "[8, 1]\n",
            "[3, 2]\n"
          ],
          "name": "stdout"
        }
      ]
    },
    {
      "cell_type": "code",
      "metadata": {
        "id": "de1KXrxkEz67",
        "colab_type": "code",
        "outputId": "3748a010-4724-4251-d4a0-4203dd3a0d68",
        "colab": {
          "base_uri": "https://localhost:8080/",
          "height": 68
        }
      },
      "source": [
        "# Function to find the second largest in the list\n",
        "\n",
        "def secondlarge(li) :\n",
        "  li.sort()\n",
        "  print(li)\n",
        "  return li[-2]  # second element from the last\n",
        "li = [1, 19, 6, 2, 8, 18, 3]\n",
        "print(li)\n",
        "secondlarge(li)\n",
        "\n"
      ],
      "execution_count": 0,
      "outputs": [
        {
          "output_type": "stream",
          "text": [
            "[1, 19, 6, 2, 8, 18, 3]\n",
            "[1, 2, 3, 6, 8, 18, 19]\n"
          ],
          "name": "stdout"
        },
        {
          "output_type": "execute_result",
          "data": {
            "text/plain": [
              "6"
            ]
          },
          "metadata": {
            "tags": []
          },
          "execution_count": 53
        }
      ]
    },
    {
      "cell_type": "code",
      "metadata": {
        "id": "1ENrSn6JKv_N",
        "colab_type": "code",
        "outputId": "aa9fad21-a94a-4e5b-9710-1ce58690dfa6",
        "colab": {
          "base_uri": "https://localhost:8080/",
          "height": 68
        }
      },
      "source": [
        "# Generic large number in list\n",
        "def genericlarge(li,n) :\n",
        "  li.sort()\n",
        "  print(li)\n",
        "  return li[-n]  # second element from the last\n",
        "li = [1, 19, 6, 2, 8, 18, 3]\n",
        "print(li)\n",
        "secondlarge(li,5)\n"
      ],
      "execution_count": 0,
      "outputs": [
        {
          "output_type": "stream",
          "text": [
            "[1, 19, 6, 2, 8, 18, 3]\n",
            "[1, 2, 3, 6, 8, 18, 19]\n"
          ],
          "name": "stdout"
        },
        {
          "output_type": "execute_result",
          "data": {
            "text/plain": [
              "3"
            ]
          },
          "metadata": {
            "tags": []
          },
          "execution_count": 56
        }
      ]
    },
    {
      "cell_type": "code",
      "metadata": {
        "id": "JB7-mq7yL_qd",
        "colab_type": "code",
        "outputId": "95b512b0-a51b-4df3-c297-0e373def4e6e",
        "colab": {
          "base_uri": "https://localhost:8080/",
          "height": 102
        }
      },
      "source": [
        "def secondleast(li) :\n",
        "  li.sort()\n",
        "  print(li)\n",
        "  return li[1]\n",
        "def genericleast(li,n) :\n",
        "  li.sort()\n",
        "  print(li)\n",
        "  return li[n-1]\n",
        "\n",
        "li = [1, 19, 6, 2, 8, 18, 3]\n",
        "print(li)\n",
        "print(secondleast(li))\n",
        "genericleast(li,4)\n"
      ],
      "execution_count": 0,
      "outputs": [
        {
          "output_type": "stream",
          "text": [
            "[1, 19, 6, 2, 8, 18, 3]\n",
            "[1, 2, 3, 6, 8, 18, 19]\n",
            "2\n",
            "[1, 2, 3, 6, 8, 18, 19]\n"
          ],
          "name": "stdout"
        },
        {
          "output_type": "execute_result",
          "data": {
            "text/plain": [
              "6"
            ]
          },
          "metadata": {
            "tags": []
          },
          "execution_count": 63
        }
      ]
    },
    {
      "cell_type": "markdown",
      "metadata": {
        "id": "YsGkChCNVJhb",
        "colab_type": "text"
      },
      "source": [
        "###Searching Algorithms\n",
        "\n",
        "- Linear Search\n",
        "\n",
        "   Can be applied on duplicate and unique lists\n",
        "   Unique list : elements in list appear only once\n",
        "   \n",
        "   Duplicate list : elements appear more than once in list\n",
        "   \n",
        "   Linear search algorithm can be applied on Sorted or Unsorted list   \n",
        "\n",
        "\n",
        "- Binary Search\n",
        "\n",
        "\n"
      ]
    },
    {
      "cell_type": "code",
      "metadata": {
        "id": "tZZkjMMQVXyW",
        "colab_type": "code",
        "outputId": "788704c9-8307-4492-ce8f-f6327fa5fcd3",
        "colab": {
          "base_uri": "https://localhost:8080/",
          "height": 34
        }
      },
      "source": [
        "# Funcion to search the data in a list\n",
        "# search is found, return index, if not return -1\n",
        "\n",
        "def linearsearch(li, item) :\n",
        "  for x in range(len(li)) :\n",
        "    if li[x] == item :\n",
        "      return x\n",
        "  return -1\n",
        "li = [1, 19, 6, 2, 8, 18, 3]\n",
        "linearsearch(li,225)\n"
      ],
      "execution_count": 0,
      "outputs": [
        {
          "output_type": "execute_result",
          "data": {
            "text/plain": [
              "-1"
            ]
          },
          "metadata": {
            "tags": []
          },
          "execution_count": 65
        }
      ]
    },
    {
      "cell_type": "code",
      "metadata": {
        "id": "mlsFbWFCZC0e",
        "colab_type": "code",
        "outputId": "15072415-c21f-4fe1-ec8d-34a3bc1b775c",
        "colab": {
          "base_uri": "https://localhost:8080/",
          "height": 34
        }
      },
      "source": [
        "# Function to count the repeating no. in list \n",
        "# if input = li\n",
        "# key = 5, O/P = 1 4 8\n",
        "\n",
        "def lsearch(li, item) :\n",
        "  for x in range(len(li)) :\n",
        "    if li[x] == item :\n",
        "      print(x, end = \" \")\n",
        "  return\n",
        "\n",
        "li = [1, 5, 9, 6, 5, 15, 1, 2, 5]\n",
        "lsearch(li,5)\n"
      ],
      "execution_count": 0,
      "outputs": [
        {
          "output_type": "stream",
          "text": [
            "1 4 8 "
          ],
          "name": "stdout"
        }
      ]
    },
    {
      "cell_type": "code",
      "metadata": {
        "id": "Wp4UUkykaf9t",
        "colab_type": "code",
        "outputId": "7d7f5ecd-29c0-4c0c-def1-c7bb6af1fb19",
        "colab": {
          "base_uri": "https://localhost:8080/",
          "height": 34
        }
      },
      "source": [
        "# function \n",
        "# I/P = list\n",
        "# O/P = Set of characterss\n",
        "\n",
        "def lsearch(li, item) :\n",
        "  for x in range(len(li)) :\n",
        "    if li[x] == item :\n",
        "      for i in range(0,x+1) :\n",
        "        print(\"!\", end = \"\")\n",
        "      print(end = \" \")\n",
        "  return\n",
        "\n",
        "li = [1, 5, 9, 6, 5, 15, 1, 2, 5]\n",
        "lsearch(li,5)"
      ],
      "execution_count": 0,
      "outputs": [
        {
          "output_type": "stream",
          "text": [
            "!! !!!!! !!!!!!!!! "
          ],
          "name": "stdout"
        }
      ]
    },
    {
      "cell_type": "code",
      "metadata": {
        "id": "IeAs7GcoesAp",
        "colab_type": "code",
        "outputId": "625cbcfe-6f08-41e6-b749-2ef803e1e0c7",
        "colab": {
          "base_uri": "https://localhost:8080/",
          "height": 34
        }
      },
      "source": [
        "# function to print sum of the multiples of both 3 and 5\n",
        "# input - list\n",
        "# output - formatted\n",
        "\n",
        "def func(li) :\n",
        "  sum = 0\n",
        "  for x in range(len(li)) :\n",
        "    if li[x]%3==0 and li[x]%5==0 :\n",
        "      sum = sum + li[x]\n",
        "  return sum\n",
        "  \n",
        "li = [12, 2, 45, 9, 18, 15, 36]\n",
        "print(\"Sum = \", func(li))\n"
      ],
      "execution_count": 0,
      "outputs": [
        {
          "output_type": "stream",
          "text": [
            "Sum =  60\n"
          ],
          "name": "stdout"
        }
      ]
    },
    {
      "cell_type": "code",
      "metadata": {
        "id": "i_NgRP9Ui3xI",
        "colab_type": "code",
        "colab": {}
      },
      "source": [
        "# [1,2,3,4,5] -- [1,3,8,15,5]\n",
        "# [6,5,2,8,2] -- [6,12,40,4,2]\n",
        "\n",
        "def con(li) :\n",
        "  L=[0]\n",
        "  for x in range(len(li)) :\n",
        "    if x == 0 or x == len(li)-1 :\n",
        "      L = L.append(li[x])\n",
        "      \n",
        "    else :\n",
        "      L.append(li[x-1]-li[x+1])\n",
        "      \n",
        "    print(li)\n",
        "  return L\n",
        "\n",
        "li = [1,2,3,4,5]\n",
        "print(\"New List = \", con(li))\n",
        "print(\"Modified list = \", con([6,5,2,8,2]))\n"
      ],
      "execution_count": 0,
      "outputs": []
    },
    {
      "cell_type": "code",
      "metadata": {
        "id": "f7pw7n4GmKEv",
        "colab_type": "code",
        "outputId": "0e65ba19-3b6c-4bb7-f296-1e37e9cf2625",
        "colab": {
          "base_uri": "https://localhost:8080/",
          "height": 51
        }
      },
      "source": [
        "# [1,2,3,4,5] -- [1,3,8,15,5]\n",
        "# [6,5,2,8,2] -- [6,12,40,4,2]\n",
        "\n",
        "def con(li) :\n",
        "  for x in range(len(li)) :\n",
        "    if (x == 0 or x == len(li)-1) :\n",
        "      print((li[x]), end = \" \")\n",
        "    else :\n",
        "      print((li[x-1]*li[x+1]), end = \" \")\n",
        "  return\n",
        "\n",
        "li = [1,2,3,4,5]\n",
        "con(li) \n",
        "print(\" \")\n",
        "con([6,5,2,8,2])"
      ],
      "execution_count": 0,
      "outputs": [
        {
          "output_type": "stream",
          "text": [
            "1 3 8 15 5  \n",
            "6 12 40 4 2 "
          ],
          "name": "stdout"
        }
      ]
    },
    {
      "cell_type": "code",
      "metadata": {
        "id": "pvnS6uXRpaiN",
        "colab_type": "code",
        "outputId": "79ce3a93-188b-4fe9-e5aa-2c695ecfb3fd",
        "colab": {
          "base_uri": "https://localhost:8080/",
          "height": 34
        }
      },
      "source": [
        "# \n",
        "\n",
        "\n",
        "def con(li) :\n",
        "  for x in range(len(li)) :\n",
        "    if (x == 0 or x == len(li)-1) :\n",
        "      print(li[x], end = \" \")\n",
        "    elif (li[x-1]%2==0 and li[x+1]%2==0) :\n",
        "      print(li[x], end = \" \")\n",
        "  return\n",
        "\n",
        "li = [1, 6, 9, 4, 16, 19, 22]\n",
        "con(li)\n"
      ],
      "execution_count": 0,
      "outputs": [
        {
          "output_type": "stream",
          "text": [
            "1 9 19 22 "
          ],
          "name": "stdout"
        }
      ]
    },
    {
      "cell_type": "code",
      "metadata": {
        "id": "mJhPLu6n-0Bc",
        "colab_type": "code",
        "outputId": "c46bc827-7394-4785-85da-00927a6b0aed",
        "colab": {
          "base_uri": "https://localhost:8080/",
          "height": 119
        }
      },
      "source": [
        "# take in no. and make it into a list\n",
        "\n",
        "def func(n) :\n",
        "  li = []\n",
        "  while(n!=0) :\n",
        "    r = n % 10\n",
        "    print(r)\n",
        "    li.append(r)\n",
        "    n = n // 10\n",
        "  li.reverse()\n",
        "  return li\n",
        "\n",
        "n = 14569\n",
        "func(n)\n"
      ],
      "execution_count": 0,
      "outputs": [
        {
          "output_type": "stream",
          "text": [
            "9\n",
            "6\n",
            "5\n",
            "4\n",
            "1\n"
          ],
          "name": "stdout"
        },
        {
          "output_type": "execute_result",
          "data": {
            "text/plain": [
              "[1, 4, 5, 6, 9]"
            ]
          },
          "metadata": {
            "tags": []
          },
          "execution_count": 121
        }
      ]
    },
    {
      "cell_type": "code",
      "metadata": {
        "id": "151t1tm5BjXZ",
        "colab_type": "code",
        "outputId": "c1f29a25-18f6-4abe-a73d-2783655fc8be",
        "colab": {
          "base_uri": "https://localhost:8080/",
          "height": 51
        }
      },
      "source": [
        "# Count og character occurrences\n",
        "\n",
        "def count1(li, c) :\n",
        "  cnt = 0\n",
        "  for x in li :\n",
        "    if x == c :\n",
        "      cnt =cnt + 1\n",
        "  print(cnt)\n",
        "  return cnt\n",
        "\n",
        "def count(li, c) :\n",
        "  return li.count(c)\n",
        "\n",
        "count(\"Python Programming\",'P')\n",
        "count1(\"Python Programming\",'P')"
      ],
      "execution_count": 0,
      "outputs": [
        {
          "output_type": "stream",
          "text": [
            "2\n"
          ],
          "name": "stdout"
        },
        {
          "output_type": "execute_result",
          "data": {
            "text/plain": [
              "2"
            ]
          },
          "metadata": {
            "tags": []
          },
          "execution_count": 139
        }
      ]
    },
    {
      "cell_type": "markdown",
      "metadata": {
        "id": "tNcrsap_F5qZ",
        "colab_type": "text"
      },
      "source": [
        "### String to List conversion\n",
        " \n",
        " - Input is string\n",
        " - Expected output is a List\n",
        " "
      ]
    },
    {
      "cell_type": "code",
      "metadata": {
        "id": "fwsHNSSBEEjy",
        "colab_type": "code",
        "outputId": "ff8c3d40-b60d-4538-8b2b-1744fe1d38fb",
        "colab": {
          "base_uri": "https://localhost:8080/",
          "height": 34
        }
      },
      "source": [
        "# String to List\n",
        "\n",
        "def strTOlst(s) :\n",
        "  li = s.split()\n",
        "  nolst = []\n",
        "  for i in li :\n",
        "    nolst.append(int(i))\n",
        "  return nolst\n",
        "\n",
        "s = \"1 2 3 4 5 6\"\n",
        "strTOlst(s)\n"
      ],
      "execution_count": 0,
      "outputs": [
        {
          "output_type": "execute_result",
          "data": {
            "text/plain": [
              "[1, 2, 3, 4, 5, 6]"
            ]
          },
          "metadata": {
            "tags": []
          },
          "execution_count": 140
        }
      ]
    },
    {
      "cell_type": "markdown",
      "metadata": {
        "id": "R1H8gziBIehU",
        "colab_type": "text"
      },
      "source": [
        "## Sorting Algorithms\n",
        "\n",
        "Arrange in ascending order\n",
        "- Bubble Sort\n",
        "- Selection Sort\n",
        "- Insertion Sort\n"
      ]
    },
    {
      "cell_type": "markdown",
      "metadata": {
        "id": "BswPilglI4lo",
        "colab_type": "text"
      },
      "source": [
        "### Bubble Sort\n",
        "\n",
        "Compares the adjacent elements one by one for each element\n"
      ]
    },
    {
      "cell_type": "code",
      "metadata": {
        "id": "yd9NjztCHXc2",
        "colab_type": "code",
        "outputId": "d1645a80-8321-42f1-d1af-6de223be0e69",
        "colab": {
          "base_uri": "https://localhost:8080/",
          "height": 34
        }
      },
      "source": [
        "# Bubble Sort\n",
        "\n",
        "def bubblesort(li) :\n",
        "  for i in range(len(li)-1) :\n",
        "    for j in range(len(li)-1) :\n",
        "      if li[j] > li[j+1] :\n",
        "        li[j], li[j+1] = li[j+1], li[j]\n",
        "  return li\n",
        "\n",
        "li = [19, 1, 25, 6, 18, 3]\n",
        "bubblesort(li)\n"
      ],
      "execution_count": 0,
      "outputs": [
        {
          "output_type": "execute_result",
          "data": {
            "text/plain": [
              "[1, 3, 6, 18, 19, 25]"
            ]
          },
          "metadata": {
            "tags": []
          },
          "execution_count": 142
        }
      ]
    },
    {
      "cell_type": "markdown",
      "metadata": {
        "id": "aQDycGCubzLg",
        "colab_type": "text"
      },
      "source": [
        "### ASSIGNMENT"
      ]
    },
    {
      "cell_type": "code",
      "metadata": {
        "id": "Gi_uyx6OOQfL",
        "colab_type": "code",
        "outputId": "b083395e-1439-45ee-b134-9a7da1fe2147",
        "colab": {
          "base_uri": "https://localhost:8080/",
          "height": 34
        }
      },
      "source": [
        "# [1,4,5,6,9] = 14569\n",
        "\n",
        "def no(li) :\n",
        "  n = 0\n",
        "  for x in range(len(li)) :\n",
        "    n = n * 10 + li[x] \n",
        "  return n\n",
        "\n",
        "li = [1,4,5,6,9]\n",
        "no(li)\n"
      ],
      "execution_count": 0,
      "outputs": [
        {
          "output_type": "execute_result",
          "data": {
            "text/plain": [
              "14569"
            ]
          },
          "metadata": {
            "tags": []
          },
          "execution_count": 146
        }
      ]
    },
    {
      "cell_type": "code",
      "metadata": {
        "id": "9AESUPR5cLop",
        "colab_type": "code",
        "outputId": "23060a56-5cf1-4048-97c7-d8ef35f72c4a",
        "colab": {
          "base_uri": "https://localhost:8080/",
          "height": 34
        }
      },
      "source": [
        "# Consider only even numbers in list\n",
        "\n",
        "def no(li) :\n",
        "  for x in range(len(li)) :\n",
        "    if li[x]%2 == 0 :\n",
        "      print(li[x], end = \" \")\n",
        "  return\n",
        "\n",
        "li = [1,4,5,6,9]\n",
        "no(li)\n"
      ],
      "execution_count": 0,
      "outputs": [
        {
          "output_type": "stream",
          "text": [
            "4 6 "
          ],
          "name": "stdout"
        }
      ]
    },
    {
      "cell_type": "code",
      "metadata": {
        "id": "QpCpuiFOczxM",
        "colab_type": "code",
        "outputId": "c35271ab-56d0-4414-ba4d-52945c77c78f",
        "colab": {
          "base_uri": "https://localhost:8080/",
          "height": 34
        }
      },
      "source": [
        "# Consider even no.s and square it and print with the rest\n",
        "\n",
        "def no(li) :\n",
        "  for x in range(len(li)) :\n",
        "    if li[x]%2 == 0 :\n",
        "      li[x] = li[x] * li[x]\n",
        "  return li\n",
        "\n",
        "li = [1, 2, 3, 4, 5]\n",
        "no(li)\n"
      ],
      "execution_count": 0,
      "outputs": [
        {
          "output_type": "execute_result",
          "data": {
            "text/plain": [
              "[1, 4, 3, 16, 5]"
            ]
          },
          "metadata": {
            "tags": []
          },
          "execution_count": 151
        }
      ]
    },
    {
      "cell_type": "code",
      "metadata": {
        "id": "Km-wprErdLPV",
        "colab_type": "code",
        "outputId": "81bc32f4-dc80-4018-9523-587da3206de2",
        "colab": {
          "base_uri": "https://localhost:8080/",
          "height": 34
        }
      },
      "source": [
        "# Add previous no. to current no.\n",
        "\n",
        "def add(li) :\n",
        "  for x in range(len(li)) :\n",
        "    if (x == 0 or x == len(li)-1) :\n",
        "      print(li[x], end = \" \")\n",
        "    else :\n",
        "      print(li[x] + li[x-1], end = \" \")\n",
        "  return\n",
        "  \n",
        "li =  [15,19,12,16,4]\n",
        "add(li)\n"
      ],
      "execution_count": 0,
      "outputs": [
        {
          "output_type": "stream",
          "text": [
            "15 34 31 28 4 "
          ],
          "name": "stdout"
        }
      ]
    }
  ]
}