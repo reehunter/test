{
  "nbformat": 4,
  "nbformat_minor": 0,
  "metadata": {
    "colab": {
      "name": "Assignment (10 July)",
      "version": "0.3.2",
      "provenance": [],
      "collapsed_sections": [],
      "include_colab_link": true
    },
    "kernelspec": {
      "name": "python3",
      "display_name": "Python 3"
    }
  },
  "cells": [
    {
      "cell_type": "markdown",
      "metadata": {
        "id": "view-in-github",
        "colab_type": "text"
      },
      "source": [
        "<a href=\"https://colab.research.google.com/github/reehunter/test/blob/master/Assignment_(10_July).ipynb\" target=\"_parent\"><img src=\"https://colab.research.google.com/assets/colab-badge.svg\" alt=\"Open In Colab\"/></a>"
      ]
    },
    {
      "cell_type": "code",
      "metadata": {
        "id": "cYFaFhsUSfA9",
        "colab_type": "code",
        "outputId": "bb411925-664c-457f-a133-656093fe6776",
        "colab": {
          "base_uri": "https://localhost:8080/",
          "height": 68
        }
      },
      "source": [
        "# 1 - fibonacci in reverse\n",
        "\n",
        "def fib(n) :\n",
        "  x = 0\n",
        "  y = 1\n",
        "  \n",
        "  lst.append(x)\n",
        "  lst.append(y)\n",
        "  for i in range(3,n+1) :\n",
        "    a = x + y\n",
        "    x = y\n",
        "    y = a\n",
        "    lst.append(a)\n",
        "  print(lst)\n",
        "  return\n",
        "\n",
        "lst = []\n",
        "n = int(input(\"Enter no. of terms in series - \"))\n",
        "fib(n)\n",
        "lst.reverse()\n",
        "print(lst)\n"
      ],
      "execution_count": 0,
      "outputs": [
        {
          "output_type": "stream",
          "text": [
            "Enter no. of terms in series - 5\n",
            "[0, 1, 1, 2, 3]\n",
            "[3, 2, 1, 1, 0]\n"
          ],
          "name": "stdout"
        }
      ]
    },
    {
      "cell_type": "code",
      "metadata": {
        "id": "CZdmG8tuVHuu",
        "colab_type": "code",
        "outputId": "fffe9c28-bcf3-4d15-e6e2-601d24c4fb99",
        "colab": {
          "base_uri": "https://localhost:8080/",
          "height": 136
        }
      },
      "source": [
        "# 2 - Condition\n",
        "\n",
        "def con(n) :\n",
        "  lst = []\n",
        "  sum = 0\n",
        "  for i in range(1,n+1) :\n",
        "    z = input()\n",
        "    lst.append(z)\n",
        "  for i in range(len(lst)) :\n",
        "    if lst.count(lst[i])==1 :\n",
        "      sum = sum + int(lst[i])\n",
        "  \n",
        "  if sum == 0 :\n",
        "    return -1\n",
        "  else :\n",
        "    return sum\n",
        "    \n",
        "#lst = [1,2,3,2,5]\n",
        "#li = [1,2,1,2,1]\n",
        "n = int(input(\"Enter no. of terms - \"))\n",
        "con(n)\n",
        "\n",
        "\n"
      ],
      "execution_count": 0,
      "outputs": [
        {
          "output_type": "stream",
          "text": [
            "Enter no. of terms - 5\n",
            "1\n",
            "2\n",
            "1\n",
            "2\n",
            "1\n"
          ],
          "name": "stdout"
        },
        {
          "output_type": "execute_result",
          "data": {
            "text/plain": [
              "-1"
            ]
          },
          "metadata": {
            "tags": []
          },
          "execution_count": 31
        }
      ]
    },
    {
      "cell_type": "code",
      "metadata": {
        "id": "HYVm3xn5ZFW8",
        "colab_type": "code",
        "outputId": "e1ca45f6-fabc-49df-c2f3-135498df9f4e",
        "colab": {
          "base_uri": "https://localhost:8080/",
          "height": 452
        }
      },
      "source": [
        "#  copy of 3\n",
        "def func(a) :\n",
        "  for x in range(1,a) :\n",
        "    if s1[x] is false :\n",
        "      print(\"*\",s2[x])\n",
        "    elif s2[x] is false :\n",
        "      print(s1,\"*\")\n",
        "    else :\n",
        "      print(s1[x],s2[x])\n",
        "  return\n",
        "\n",
        "\n",
        "\n",
        "n1 = int(input(\"S1 length = \"))\n",
        "n2 = int(input(\"S2 length = \"))\n",
        "\n",
        "if n1 <= 100 and n1 >=1 and n2 <= 100 and n2 >=1 :\n",
        "  print(\"S1 : \")\n",
        "  str1 = input()\n",
        "  print(\"S2 : \")\n",
        "  str2 = input()\n",
        "else :\n",
        "  print(\"Wrong length\")\n",
        "\n",
        "if n1>n2 :\n",
        "  a = n1\n",
        "else :\n",
        "  a = n2\n",
        "func(a)\n",
        "\n",
        "\n"
      ],
      "execution_count": 0,
      "outputs": [
        {
          "output_type": "stream",
          "text": [
            "S1 length = 3\n",
            "S2 length = 5\n",
            "S1 : \n",
            "bad\n",
            "S2 : \n",
            "water\n"
          ],
          "name": "stdout"
        },
        {
          "output_type": "error",
          "ename": "NameError",
          "evalue": "ignored",
          "traceback": [
            "\u001b[0;31m---------------------------------------------------------------------------\u001b[0m",
            "\u001b[0;31mNameError\u001b[0m                                 Traceback (most recent call last)",
            "\u001b[0;32m<ipython-input-93-386f482702fa>\u001b[0m in \u001b[0;36m<module>\u001b[0;34m()\u001b[0m\n\u001b[1;32m     27\u001b[0m \u001b[0;32melse\u001b[0m \u001b[0;34m:\u001b[0m\u001b[0;34m\u001b[0m\u001b[0;34m\u001b[0m\u001b[0m\n\u001b[1;32m     28\u001b[0m   \u001b[0ma\u001b[0m \u001b[0;34m=\u001b[0m \u001b[0mn2\u001b[0m\u001b[0;34m\u001b[0m\u001b[0;34m\u001b[0m\u001b[0m\n\u001b[0;32m---> 29\u001b[0;31m \u001b[0mfunc\u001b[0m\u001b[0;34m(\u001b[0m\u001b[0ma\u001b[0m\u001b[0;34m)\u001b[0m\u001b[0;34m\u001b[0m\u001b[0;34m\u001b[0m\u001b[0m\n\u001b[0m\u001b[1;32m     30\u001b[0m \u001b[0;34m\u001b[0m\u001b[0m\n\u001b[1;32m     31\u001b[0m \u001b[0;34m\u001b[0m\u001b[0m\n",
            "\u001b[0;32m<ipython-input-93-386f482702fa>\u001b[0m in \u001b[0;36mfunc\u001b[0;34m(a)\u001b[0m\n\u001b[1;32m      2\u001b[0m \u001b[0;32mdef\u001b[0m \u001b[0mfunc\u001b[0m\u001b[0;34m(\u001b[0m\u001b[0ma\u001b[0m\u001b[0;34m)\u001b[0m \u001b[0;34m:\u001b[0m\u001b[0;34m\u001b[0m\u001b[0;34m\u001b[0m\u001b[0m\n\u001b[1;32m      3\u001b[0m   \u001b[0;32mfor\u001b[0m \u001b[0mx\u001b[0m \u001b[0;32min\u001b[0m \u001b[0mrange\u001b[0m\u001b[0;34m(\u001b[0m\u001b[0;36m1\u001b[0m\u001b[0;34m,\u001b[0m\u001b[0ma\u001b[0m\u001b[0;34m)\u001b[0m \u001b[0;34m:\u001b[0m\u001b[0;34m\u001b[0m\u001b[0;34m\u001b[0m\u001b[0m\n\u001b[0;32m----> 4\u001b[0;31m     \u001b[0;32mif\u001b[0m \u001b[0ms1\u001b[0m\u001b[0;34m[\u001b[0m\u001b[0mx\u001b[0m\u001b[0;34m]\u001b[0m \u001b[0;32mis\u001b[0m \u001b[0mfalse\u001b[0m \u001b[0;34m:\u001b[0m\u001b[0;34m\u001b[0m\u001b[0;34m\u001b[0m\u001b[0m\n\u001b[0m\u001b[1;32m      5\u001b[0m       \u001b[0mprint\u001b[0m\u001b[0;34m(\u001b[0m\u001b[0;34m\"*\"\u001b[0m\u001b[0;34m,\u001b[0m\u001b[0ms2\u001b[0m\u001b[0;34m[\u001b[0m\u001b[0mx\u001b[0m\u001b[0;34m]\u001b[0m\u001b[0;34m)\u001b[0m\u001b[0;34m\u001b[0m\u001b[0;34m\u001b[0m\u001b[0m\n\u001b[1;32m      6\u001b[0m     \u001b[0;32melif\u001b[0m \u001b[0ms2\u001b[0m\u001b[0;34m[\u001b[0m\u001b[0mx\u001b[0m\u001b[0;34m]\u001b[0m \u001b[0;32mis\u001b[0m \u001b[0mfalse\u001b[0m \u001b[0;34m:\u001b[0m\u001b[0;34m\u001b[0m\u001b[0;34m\u001b[0m\u001b[0m\n",
            "\u001b[0;31mNameError\u001b[0m: name 'false' is not defined"
          ]
        }
      ]
    },
    {
      "cell_type": "code",
      "metadata": {
        "id": "5k4AtLshgPN4",
        "colab_type": "code",
        "outputId": "45fd3d4b-a909-40f6-9e98-14b9aebcbfb8",
        "colab": {
          "base_uri": "https://localhost:8080/",
          "height": 401
        }
      },
      "source": [
        "# 3 - Simultaneous printing\n",
        "def func(a) :\n",
        "  for x in range(0,a+1) :\n",
        "    if x > a :\n",
        "      break\n",
        "    if x >= len(s1) :\n",
        "      print(\"*\",s2[x])\n",
        "    elif x >= len(s2) :\n",
        "      print(s1[x],\"*\")\n",
        "    elif x < len(s1) and x < len(s2) :\n",
        "      print(s1[x],s2[x])\n",
        "    else :\n",
        "      break\n",
        "  return\n",
        "\n",
        "s1 = \"bad\"\n",
        "s2 = \"water\"\n",
        "\n",
        "if len(s1)>len(s2) :\n",
        "  a = len(s1)\n",
        "else :\n",
        "  a = len(s2)\n",
        "func(a)"
      ],
      "execution_count": 0,
      "outputs": [
        {
          "output_type": "stream",
          "text": [
            "b w\n",
            "a a\n",
            "d t\n",
            "* e\n",
            "* r\n"
          ],
          "name": "stdout"
        },
        {
          "output_type": "error",
          "ename": "IndexError",
          "evalue": "ignored",
          "traceback": [
            "\u001b[0;31m---------------------------------------------------------------------------\u001b[0m",
            "\u001b[0;31mIndexError\u001b[0m                                Traceback (most recent call last)",
            "\u001b[0;32m<ipython-input-94-45cd6c016650>\u001b[0m in \u001b[0;36m<module>\u001b[0;34m()\u001b[0m\n\u001b[1;32m     20\u001b[0m \u001b[0;32melse\u001b[0m \u001b[0;34m:\u001b[0m\u001b[0;34m\u001b[0m\u001b[0;34m\u001b[0m\u001b[0m\n\u001b[1;32m     21\u001b[0m   \u001b[0ma\u001b[0m \u001b[0;34m=\u001b[0m \u001b[0mlen\u001b[0m\u001b[0;34m(\u001b[0m\u001b[0ms2\u001b[0m\u001b[0;34m)\u001b[0m\u001b[0;34m\u001b[0m\u001b[0;34m\u001b[0m\u001b[0m\n\u001b[0;32m---> 22\u001b[0;31m \u001b[0mfunc\u001b[0m\u001b[0;34m(\u001b[0m\u001b[0ma\u001b[0m\u001b[0;34m)\u001b[0m\u001b[0;34m\u001b[0m\u001b[0;34m\u001b[0m\u001b[0m\n\u001b[0m",
            "\u001b[0;32m<ipython-input-94-45cd6c016650>\u001b[0m in \u001b[0;36mfunc\u001b[0;34m(a)\u001b[0m\n\u001b[1;32m      4\u001b[0m       \u001b[0;32mbreak\u001b[0m\u001b[0;34m\u001b[0m\u001b[0;34m\u001b[0m\u001b[0m\n\u001b[1;32m      5\u001b[0m     \u001b[0;32mif\u001b[0m \u001b[0mx\u001b[0m \u001b[0;34m>=\u001b[0m \u001b[0mlen\u001b[0m\u001b[0;34m(\u001b[0m\u001b[0ms1\u001b[0m\u001b[0;34m)\u001b[0m \u001b[0;34m:\u001b[0m\u001b[0;34m\u001b[0m\u001b[0;34m\u001b[0m\u001b[0m\n\u001b[0;32m----> 6\u001b[0;31m       \u001b[0mprint\u001b[0m\u001b[0;34m(\u001b[0m\u001b[0;34m\"*\"\u001b[0m\u001b[0;34m,\u001b[0m\u001b[0ms2\u001b[0m\u001b[0;34m[\u001b[0m\u001b[0mx\u001b[0m\u001b[0;34m]\u001b[0m\u001b[0;34m)\u001b[0m\u001b[0;34m\u001b[0m\u001b[0;34m\u001b[0m\u001b[0m\n\u001b[0m\u001b[1;32m      7\u001b[0m     \u001b[0;32melif\u001b[0m \u001b[0mx\u001b[0m \u001b[0;34m>=\u001b[0m \u001b[0mlen\u001b[0m\u001b[0;34m(\u001b[0m\u001b[0ms2\u001b[0m\u001b[0;34m)\u001b[0m \u001b[0;34m:\u001b[0m\u001b[0;34m\u001b[0m\u001b[0;34m\u001b[0m\u001b[0m\n\u001b[1;32m      8\u001b[0m       \u001b[0mprint\u001b[0m\u001b[0;34m(\u001b[0m\u001b[0ms1\u001b[0m\u001b[0;34m[\u001b[0m\u001b[0mx\u001b[0m\u001b[0;34m]\u001b[0m\u001b[0;34m,\u001b[0m\u001b[0;34m\"*\"\u001b[0m\u001b[0;34m)\u001b[0m\u001b[0;34m\u001b[0m\u001b[0;34m\u001b[0m\u001b[0m\n",
            "\u001b[0;31mIndexError\u001b[0m: string index out of range"
          ]
        }
      ]
    },
    {
      "cell_type": "code",
      "metadata": {
        "id": "a7Ztib0JaQl6",
        "colab_type": "code",
        "colab": {}
      },
      "source": [
        "# EXTRAAA\n",
        "if n1 <= 100 and n1 >=1 and n2 <= 100 and n2 >=1 :\n",
        "  print(\"S1 : \")\n",
        "  for i in range(1,n) :\n",
        "    z = input()\n",
        "    s1.append(z)\n",
        "  print(\"S2 : \")\n",
        "  for i in range(1,n) :\n",
        "    z = input()\n",
        "    s2.append(z)\n",
        "else :\n",
        "  print(\"Wrong length\")\n",
        "\n",
        "if n1>n2 :\n",
        "  a = n1\n",
        "else :\n",
        "  a = n2\n",
        "  \n",
        "\n",
        "func(a)"
      ],
      "execution_count": 0,
      "outputs": []
    },
    {
      "cell_type": "code",
      "metadata": {
        "id": "liiXfnlokgrK",
        "colab_type": "code",
        "colab": {}
      },
      "source": [
        "# 4 - longest word in string\n",
        "\n",
        "print(\"Enter string - \")\n",
        "str = input()\n",
        "li = str.split()\n",
        "print(li)\n",
        "\n",
        "for x in range(len(li)) :\n",
        "  if x == 0 :\n",
        "    long = li[0]\n",
        "  elif x == len(li) :\n",
        "    break\n",
        "  else :\n",
        "    if len(li[x]) < len(li[x+1]) :\n",
        "      long = li[x+1]\n",
        "print(\"Longest word = \", long)"
      ],
      "execution_count": 0,
      "outputs": []
    },
    {
      "cell_type": "code",
      "metadata": {
        "id": "xVOLnYN3CH4T",
        "colab_type": "code",
        "outputId": "ebf7815a-be0e-4b80-bc0e-04cbbef82485",
        "colab": {
          "base_uri": "https://localhost:8080/",
          "height": 51
        }
      },
      "source": [
        "# 10 \n",
        "n = int(input(\"Number of terms \"))\n",
        "a = 1\n",
        "print(a, end = \" \")\n",
        "for i in range(1,n+1) :\n",
        "  i = a * 3\n",
        "  a = i\n",
        "  print(i,end = \" \")"
      ],
      "execution_count": 0,
      "outputs": [
        {
          "output_type": "stream",
          "text": [
            "Number of terms 10\n",
            "1 3 9 27 81 243 729 2187 6561 19683 59049 "
          ],
          "name": "stdout"
        }
      ]
    },
    {
      "cell_type": "code",
      "metadata": {
        "id": "K4PHl-Y1CJTW",
        "colab_type": "code",
        "outputId": "cafd526a-9867-45b8-e6a9-62969bb71129",
        "colab": {
          "base_uri": "https://localhost:8080/",
          "height": 51
        }
      },
      "source": [
        "# 11\n",
        "n = int(input(\"Number of terms \"))\n",
        "a = 1\n",
        "print(a, end = \" \")\n",
        "for i in range(1,n+1) :\n",
        "  i = a * 2\n",
        "  a = i\n",
        "  print(i,end = \" \")"
      ],
      "execution_count": 0,
      "outputs": [
        {
          "output_type": "stream",
          "text": [
            "Number of terms 10\n",
            "1 2 4 8 16 32 64 128 256 512 1024 "
          ],
          "name": "stdout"
        }
      ]
    },
    {
      "cell_type": "code",
      "metadata": {
        "id": "5ZsjiOXTFSOp",
        "colab_type": "code",
        "colab": {}
      },
      "source": [
        "# 14\n",
        "n = int(input(\"Number of terms \"))\n",
        "sum = 0\n",
        "fact = 1\n",
        "for i in range(1,n+1) :\n",
        "  for x in range(1,i+1) :\n",
        "    fact = fact * x\n",
        "  print(fact)\n",
        "  sum = sum + fact\n",
        "print(\"sum = \",sum)"
      ],
      "execution_count": 0,
      "outputs": []
    },
    {
      "cell_type": "code",
      "metadata": {
        "id": "vGQMmvW1K-8U",
        "colab_type": "code",
        "outputId": "a638a9e4-7aa5-4957-c5fd-46ba8ec97f79",
        "colab": {
          "base_uri": "https://localhost:8080/",
          "height": 119
        }
      },
      "source": [
        "# 7 Printing pattern\n",
        "\n",
        "n = int(input(\"Enter number - \"))\n",
        "rev = 0\n",
        "while n != 0 :\n",
        "  r = n % 10 \n",
        "  rev = rev * 10 + r \n",
        "  n = n // 10\n",
        "  \n",
        "while rev != 0 :\n",
        "  r = rev % 10 \n",
        "  print(\"*\"*r)\n",
        "  rev = rev // 10\n"
      ],
      "execution_count": 0,
      "outputs": [
        {
          "output_type": "stream",
          "text": [
            "Enter number - 41325\n",
            "****\n",
            "*\n",
            "***\n",
            "**\n",
            "*****\n"
          ],
          "name": "stdout"
        }
      ]
    },
    {
      "cell_type": "code",
      "metadata": {
        "id": "PlXnqVm0L_om",
        "colab_type": "code",
        "outputId": "dbad4049-3826-492f-a345-dccdf6c216af",
        "colab": {
          "base_uri": "https://localhost:8080/",
          "height": 51
        }
      },
      "source": [
        "# 15 \n",
        "n = int(input(\"Enter no of terms - \"))\n",
        "a = 2\n",
        "ser = 1\n",
        "for x in range(1,n+1) :\n",
        "  print(ser, end = \" \")\n",
        "  if x == 1 :\n",
        "    ser = 7 + 2\n",
        "  else :\n",
        "    ser = 7 * a + (a+1)\n",
        "    a = a + 2\n",
        "\n"
      ],
      "execution_count": 0,
      "outputs": [
        {
          "output_type": "stream",
          "text": [
            "Enter no of terms - 10\n",
            "1 9 17 33 49 65 81 97 113 129 "
          ],
          "name": "stdout"
        }
      ]
    },
    {
      "cell_type": "code",
      "metadata": {
        "id": "VM6kGVXJOsG6",
        "colab_type": "code",
        "outputId": "487cd543-e420-47da-9144-17ffa5470127",
        "colab": {
          "base_uri": "https://localhost:8080/",
          "height": 51
        }
      },
      "source": [
        "# 6 \n",
        "\n",
        "n = int(input(\"Enter no. of terms in series - \"))\n",
        "ser1 = 1\n",
        "ser2 = 1\n",
        "for x in range(1,n+1) :\n",
        "  if x == 1 or x == 2 :\n",
        "    ser = 1\n",
        "    print(ser1, end = \" \")\n",
        "  elif x % 2 == 0 :\n",
        "    ser1 = ser * 2\n",
        "    print(ser1, end = \" \")\n",
        "  else :\n",
        "    ser2 = ser * 3\n",
        "    print(ser2, end = \" \")\n"
      ],
      "execution_count": 0,
      "outputs": [
        {
          "output_type": "stream",
          "text": [
            "Enter no. of terms in series - 3\n",
            "1 1 3 "
          ],
          "name": "stdout"
        }
      ]
    },
    {
      "cell_type": "code",
      "metadata": {
        "id": "w_zr9cXFWBmu",
        "colab_type": "code",
        "colab": {}
      },
      "source": [
        ""
      ],
      "execution_count": 0,
      "outputs": []
    }
  ]
}