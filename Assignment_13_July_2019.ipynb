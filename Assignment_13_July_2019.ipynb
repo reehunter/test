{
  "nbformat": 4,
  "nbformat_minor": 0,
  "metadata": {
    "colab": {
      "name": "Assignment - 13 July 2019",
      "version": "0.3.2",
      "provenance": [],
      "collapsed_sections": [],
      "include_colab_link": true
    },
    "kernelspec": {
      "name": "python3",
      "display_name": "Python 3"
    }
  },
  "cells": [
    {
      "cell_type": "markdown",
      "metadata": {
        "id": "view-in-github",
        "colab_type": "text"
      },
      "source": [
        "<a href=\"https://colab.research.google.com/github/reehunter/test/blob/master/Assignment_13_July_2019.ipynb\" target=\"_parent\"><img src=\"https://colab.research.google.com/assets/colab-badge.svg\" alt=\"Open In Colab\"/></a>"
      ]
    },
    {
      "cell_type": "markdown",
      "metadata": {
        "id": "BSjVBkWKRT-D",
        "colab_type": "text"
      },
      "source": [
        "### 3. Write a python program to print the large digit from given number."
      ]
    },
    {
      "cell_type": "code",
      "metadata": {
        "id": "6tnUgGapRUKe",
        "colab_type": "code",
        "colab": {}
      },
      "source": [
        "# Python Q-1\n",
        "\n",
        "def large(n) :\n",
        "  l = 0\n",
        "  while n!= 0 :\n",
        "    r = n % 10\n",
        "    if l < r :\n",
        "      l = r\n",
        "    n = n // 10\n",
        "  return l\n",
        "n = int(input(\"Enter a number - \"))\n",
        "l = large(n)\n",
        "print(\"Largest digit is \", l)\n"
      ],
      "execution_count": 0,
      "outputs": []
    },
    {
      "cell_type": "markdown",
      "metadata": {
        "id": "-mmYts8XRe72",
        "colab_type": "text"
      },
      "source": [
        "### 4. Write a python program to print the Palindrome count between two limits."
      ]
    },
    {
      "cell_type": "code",
      "metadata": {
        "id": "yGw6QsMmRkpD",
        "colab_type": "code",
        "colab": {}
      },
      "source": [
        "# Python Q-2 \n",
        "\n",
        "def count(a,b) :\n",
        "  cnt = 0\n",
        "  for i in range(a,b+1) :\n",
        "    x = i\n",
        "    rev = 0\n",
        "    while i!=0 :\n",
        "      r = i % 10\n",
        "      rev = rev * 10 + r\n",
        "      i = i // 10\n",
        "    if rev == x :\n",
        "      cnt = cnt + 1\n",
        "  return cnt\n",
        "\n",
        "C=count(1,10)\n",
        "print(\"Count = \",C)\n",
        "C=count(11,100)\n",
        "print(\"Count = \",C)\n"
      ],
      "execution_count": 0,
      "outputs": []
    }
  ]
}