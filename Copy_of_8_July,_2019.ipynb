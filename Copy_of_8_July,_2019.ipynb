{
  "nbformat": 4,
  "nbformat_minor": 0,
  "metadata": {
    "colab": {
      "name": "Copy of 8 July, 2019",
      "version": "0.3.2",
      "provenance": [],
      "include_colab_link": true
    },
    "kernelspec": {
      "name": "python3",
      "display_name": "Python 3"
    }
  },
  "cells": [
    {
      "cell_type": "markdown",
      "metadata": {
        "id": "view-in-github",
        "colab_type": "text"
      },
      "source": [
        "<a href=\"https://colab.research.google.com/github/reehunter/test/blob/master/Copy_of_8_July%2C_2019.ipynb\" target=\"_parent\"><img src=\"https://colab.research.google.com/assets/colab-badge.svg\" alt=\"Open In Colab\"/></a>"
      ]
    },
    {
      "cell_type": "code",
      "metadata": {
        "id": "jqKjiJf_q_gM",
        "colab_type": "code",
        "outputId": "7b8edab1-6973-4b1b-ddbf-8093a4fad5c6",
        "colab": {
          "base_uri": "https://localhost:8080/",
          "height": 34
        }
      },
      "source": [
        "# Factors of a no.\n",
        "def factors(n) :\n",
        "  for i in range(1,n+1) :\n",
        "    if n % i == 0 :\n",
        "      print(i, end = \" \")\n",
        "  return \n",
        "factors(12)\n"
      ],
      "execution_count": 0,
      "outputs": [
        {
          "output_type": "stream",
          "text": [
            "1 2 3 4 6 12 "
          ],
          "name": "stdout"
        }
      ]
    },
    {
      "cell_type": "markdown",
      "metadata": {
        "id": "rPkkhBxfyMZz",
        "colab_type": "text"
      },
      "source": [
        "![alt text](https://)"
      ]
    },
    {
      "cell_type": "code",
      "metadata": {
        "id": "EiMue6vUs0k1",
        "colab_type": "code",
        "outputId": "1d78e451-aa25-43f6-e8a7-344ed3dd6d96",
        "colab": {
          "base_uri": "https://localhost:8080/",
          "height": 51
        }
      },
      "source": [
        "# Prime or not\n",
        "\n",
        "def prime(n) :\n",
        "  for i in range(2,n) :\n",
        "    if n % i == 0 :\n",
        "      return 'Not a Prime number'\n",
        "    i = i + 1\n",
        "  return 'It is a Prime number'\n",
        "\n",
        "x = int(input(\"Enter a number - \"))\n",
        "prime(x)\n"
      ],
      "execution_count": 0,
      "outputs": [
        {
          "output_type": "stream",
          "text": [
            "Enter a number - 15\n"
          ],
          "name": "stdout"
        },
        {
          "output_type": "execute_result",
          "data": {
            "text/plain": [
              "'Not a Prime number'"
            ]
          },
          "metadata": {
            "tags": []
          },
          "execution_count": 13
        }
      ]
    },
    {
      "cell_type": "code",
      "metadata": {
        "id": "Yu_MJtkNtfNZ",
        "colab_type": "code",
        "colab": {}
      },
      "source": [
        "# Finding prime numbers   CHECK !\n",
        "\n",
        "def primeno(n) :\n",
        "  cnt = 0\n",
        "  for i in range(2,n) :\n",
        "    for j in range(1,i+1) :\n",
        "      if i % j == 0 :\n",
        "        cnt = cnt + 1\n",
        "    if cnt == 2 :\n",
        "      print(i, end = \" \")\n",
        "  return \n",
        "\n",
        "primeno(10)\n"
      ],
      "execution_count": 0,
      "outputs": []
    },
    {
      "cell_type": "code",
      "metadata": {
        "id": "5S2Trq38xi9c",
        "colab_type": "code",
        "outputId": "9b26cf6a-0d13-48be-f34d-434b7ed9f545",
        "colab": {
          "base_uri": "https://localhost:8080/",
          "height": 34
        }
      },
      "source": [
        "# Prime number count\n",
        "\n",
        "def primecnt(n) :\n",
        "  cnt = 0\n",
        "  for a in range(2,n+1) :\n",
        "    k = 0\n",
        "    for i in range(2,a//2+1) :\n",
        "      if a % i == 0 :\n",
        "        k = k + 1 \n",
        "    if k<=0 :\n",
        "      cnt = cnt + 1\n",
        "  return cnt\n",
        "\n",
        "primecnt(10)\n"
      ],
      "execution_count": 0,
      "outputs": [
        {
          "output_type": "execute_result",
          "data": {
            "text/plain": [
              "4"
            ]
          },
          "metadata": {
            "tags": []
          },
          "execution_count": 20
        }
      ]
    },
    {
      "cell_type": "code",
      "metadata": {
        "id": "rRnlL1z5z4uP",
        "colab_type": "code",
        "outputId": "c1d70233-0c86-4d9a-d5df-f4fd4e77457a",
        "colab": {
          "base_uri": "https://localhost:8080/",
          "height": 153
        }
      },
      "source": [
        "# yes - individual digit factorial's sum is same as given number \n",
        "# no - otherwise\n",
        "\n",
        "def check(n) :\n",
        "  sum = 0\n",
        "  x = n\n",
        "  for i in range(n,-1,-1) :\n",
        "    r = n % 10\n",
        "    print(\"r = \", r)\n",
        "    f = 1\n",
        "    for a in range(1,r+1) :\n",
        "      f = f * a\n",
        "    print(\"Factorial = \", f)\n",
        "    sum = sum + f\n",
        "    n = n // 10\n",
        "    if n == 0 :\n",
        "      break\n",
        "  print(\"Sum = \", sum)\n",
        "  if sum == x :\n",
        "    return 'Yes'\n",
        "  else :\n",
        "    return 'No'\n",
        "\n",
        "check(145)\n",
        "# 145 = 5! + 4! + 1! = 120 + 24 + 1 = 145"
      ],
      "execution_count": 0,
      "outputs": [
        {
          "output_type": "stream",
          "text": [
            "r =  5\n",
            "Factorial =  120\n",
            "r =  4\n",
            "Factorial =  24\n",
            "r =  1\n",
            "Factorial =  1\n",
            "Sum =  145\n"
          ],
          "name": "stdout"
        },
        {
          "output_type": "execute_result",
          "data": {
            "text/plain": [
              "'Yes'"
            ]
          },
          "metadata": {
            "tags": []
          },
          "execution_count": 37
        }
      ]
    },
    {
      "cell_type": "code",
      "metadata": {
        "id": "KIr33Ydg5Nk8",
        "colab_type": "code",
        "outputId": "7e369a81-bf58-480b-aa2a-451530e8a83b",
        "colab": {
          "base_uri": "https://localhost:8080/",
          "height": 34
        }
      },
      "source": [
        "# 145 - different method\n",
        "\n",
        "def fact(n) :\n",
        "  fact = 1\n",
        "  for i in range(2,n+1) :\n",
        "    fact *= i\n",
        "  return fact\n",
        "def factsum(n) :\n",
        "  sum = 0\n",
        "  buffer = n\n",
        "  while n != 0 :\n",
        "    r = n % 10\n",
        "    sum += fact(r)\n",
        "    n = n // 10\n",
        "  if sum == buffer :\n",
        "    return \"Yes\"\n",
        "  else :\n",
        "    return \"No\"\n",
        "  return\n",
        "\n",
        "factsum(145)\n",
        "factsum(123)\n"
      ],
      "execution_count": 0,
      "outputs": [
        {
          "output_type": "execute_result",
          "data": {
            "text/plain": [
              "'No'"
            ]
          },
          "metadata": {
            "tags": []
          },
          "execution_count": 39
        }
      ]
    },
    {
      "cell_type": "code",
      "metadata": {
        "id": "Tr0cEG9M7iDa",
        "colab_type": "code",
        "outputId": "bf4d02c1-8e3d-484a-8fa5-e24cdddc0a1b",
        "colab": {
          "base_uri": "https://localhost:8080/",
          "height": 51
        }
      },
      "source": [
        "# count of palindromes in given series of numbers\n",
        "\n",
        "def count(a,b) :\n",
        "  cnt = 0\n",
        "  for i in range(a,b+1) :\n",
        "    x = i\n",
        "    rev = 0\n",
        "    while i!=0 :\n",
        "      r = i % 10\n",
        "      rev = rev * 10 + r\n",
        "      i = i // 10\n",
        "    if rev == x :\n",
        "      cnt = cnt + 1\n",
        "      print(x, end = \" \")\n",
        "  return cnt\n",
        "\n",
        "C=count(1,10)\n",
        "print(\"Count = \",C)\n",
        "C=count(11,100)\n",
        "print(\"Count = \",C)\n"
      ],
      "execution_count": 0,
      "outputs": [
        {
          "output_type": "stream",
          "text": [
            "1 2 3 4 5 6 7 8 9 Count =  9\n",
            "11 22 33 44 55 66 77 88 99 Count =  9\n"
          ],
          "name": "stdout"
        }
      ]
    },
    {
      "cell_type": "code",
      "metadata": {
        "id": "xOBC2BLaBIkx",
        "colab_type": "code",
        "outputId": "b6a31e89-bc06-4215-e2a4-458541aa32c8",
        "colab": {
          "base_uri": "https://localhost:8080/",
          "height": 34
        }
      },
      "source": [
        "# Perfect numbers in given range\n",
        "# Perfect number : Sum of its factors = Original number\n",
        "# ex : 6 - 2, 3 --> 2 + 3 = 6\n",
        "\n",
        "#  CHECK !!\n",
        "\n",
        "def perfect(a,b) :\n",
        "  for i in range(a,b+1) :\n",
        "    sum = 0\n",
        "    fact = 0\n",
        "    j = 1\n",
        "    while(j<=i) :\n",
        "      if i % j == 0 :\n",
        "        fact = j\n",
        "      j = j + 1\n",
        "      sum +=fact\n",
        "    if sum == i :\n",
        "      print(i, end = \" \")\n",
        "  return\n",
        "\n",
        "perfect(1,10)\n"
      ],
      "execution_count": 0,
      "outputs": [
        {
          "output_type": "stream",
          "text": [
            "1 "
          ],
          "name": "stdout"
        }
      ]
    },
    {
      "cell_type": "code",
      "metadata": {
        "id": "JAlqmqlMESW2",
        "colab_type": "code",
        "colab": {}
      },
      "source": [
        "#  CHECK!\n",
        "\n",
        "def factorslist(n) :\n",
        "  x = 1\n",
        "  sum = 0\n",
        "  while(x<=n):\n",
        "    if n%x==0 :\n",
        "      sum = sum + x\n",
        "  return sum\n",
        "\n",
        "def isPerfect(n) :\n",
        "  if factorslist(n) == n :\n",
        "    return True\n",
        "  return False\n",
        "\n",
        "def generatePerfect(a,b) :\n",
        "  for x in range(a,b+1) :\n",
        "    if isPerfect(x) :\n",
        "      print(x, end = \" \")\n",
        "  print()\n",
        "  return\n",
        "\n",
        "generatePerfect(1,10)\n",
        "generatePerfect(1,10000)"
      ],
      "execution_count": 0,
      "outputs": []
    },
    {
      "cell_type": "code",
      "metadata": {
        "id": "lG2ZY0aeGitz",
        "colab_type": "code",
        "outputId": "13e150ee-c565-4fdd-e091-20ff8950a80d",
        "colab": {
          "base_uri": "https://localhost:8080/",
          "height": 34
        }
      },
      "source": [
        "a,b,c = range(1,12,4)\n",
        "print(a,b,c)"
      ],
      "execution_count": 0,
      "outputs": [
        {
          "output_type": "stream",
          "text": [
            "1 5 9\n"
          ],
          "name": "stdout"
        }
      ]
    },
    {
      "cell_type": "markdown",
      "metadata": {
        "id": "dorsFS-HXuJe",
        "colab_type": "text"
      },
      "source": [
        "### Strings in Python\n",
        "\n",
        "- Strings\n",
        "- String - arrays\n",
        "- String slicing -  \" :: \"\n"
      ]
    },
    {
      "cell_type": "code",
      "metadata": {
        "id": "xoNDAxgUX1DL",
        "colab_type": "code",
        "outputId": "5caf8670-0b6d-47b9-82fd-70faa34c9e0d",
        "colab": {
          "base_uri": "https://localhost:8080/",
          "height": 340
        }
      },
      "source": [
        "s1 = 'Python'\n",
        "print(s1)\n",
        "print(type(s1))\n",
        "print(s1[3])\n",
        "print(len(s1))\n",
        "print(s1[len(s1)-1])\n",
        "print(s1[-1])\n",
        "print(s1[-6])\n",
        "print(s1[:2])  # Access the first characters\n",
        "print(\" \")\n",
        "print(s1[0:2])  # Access the first characters\n",
        "print(s1[-3:])  # Access the last characters\n",
        "print(s1[2:])  # Access from this character to last\n",
        "print(s1[1:-1])  # except first and last\n",
        "print(\" \")\n",
        "# Slicing of String - ::\n",
        "print(s1[-1::-1])  # Reverse\n",
        "print(s1[::3])  # Skipping character by that much\n",
        "print(s1[::2])  # Skipping characters\n",
        "print(\" \")\n",
        "print(s1[::-2])  # Skipping characters in Reverse order\n",
        "\n"
      ],
      "execution_count": 0,
      "outputs": [
        {
          "output_type": "stream",
          "text": [
            "Python\n",
            "<class 'str'>\n",
            "h\n",
            "6\n",
            "n\n",
            "n\n",
            "P\n",
            "Py\n",
            " \n",
            "Py\n",
            "hon\n",
            "thon\n",
            "ytho\n",
            " \n",
            "nohtyP\n",
            "Ph\n",
            "Pto\n",
            " \n",
            "nhy\n"
          ],
          "name": "stdout"
        }
      ]
    },
    {
      "cell_type": "code",
      "metadata": {
        "id": "amEzdh_dcNva",
        "colab_type": "code",
        "outputId": "aa7c6aa4-3f1b-4901-e5bd-b4d38f0b20c9",
        "colab": {
          "base_uri": "https://localhost:8080/",
          "height": 51
        }
      },
      "source": [
        "# Palindrome or not\n",
        "def palindrome(str) :\n",
        "  if str == str[::-1] :\n",
        "    return True\n",
        "  else :\n",
        "    return False\n",
        "\n",
        "print(palindrome(\"Python\"))\n",
        "print(palindrome(\"madam\"))"
      ],
      "execution_count": 0,
      "outputs": [
        {
          "output_type": "stream",
          "text": [
            "False\n",
            "True\n"
          ],
          "name": "stdout"
        }
      ]
    },
    {
      "cell_type": "markdown",
      "metadata": {
        "id": "DxnCPQt3v5RH",
        "colab_type": "text"
      },
      "source": [
        "## ASCII \n",
        "\n",
        "- A - Z : 65 - 90\n",
        "- a - z : 97 - 122\n",
        "- 0 - 9 : 48 - 57\n",
        "- Space : 32"
      ]
    },
    {
      "cell_type": "code",
      "metadata": {
        "id": "l4HTMW3zwO23",
        "colab_type": "code",
        "outputId": "0ae6eb79-be06-4d3e-c58a-52fd6d2c6fb0",
        "colab": {
          "base_uri": "https://localhost:8080/",
          "height": 51
        }
      },
      "source": [
        "# Printing upper case\n",
        "def printuppercase(s) :\n",
        "  for i in range(len(s)) :\n",
        "    if ord(s[i]) >= 65 and ord(s[i])<=90 :\n",
        "      print(s[i])\n",
        "  return\n",
        "printuppercase(\"PyThon\")\n"
      ],
      "execution_count": 0,
      "outputs": [
        {
          "output_type": "stream",
          "text": [
            "P\n",
            "T\n"
          ],
          "name": "stdout"
        }
      ]
    },
    {
      "cell_type": "markdown",
      "metadata": {
        "id": "WuRw95DgaqH-",
        "colab_type": "text"
      },
      "source": [
        "[Upper case](https://drive.google.com/open?id=1Wc8NmAQfxxTmjcm4Zu1lmyRSm6IGNACY)"
      ]
    },
    {
      "cell_type": "code",
      "metadata": {
        "id": "hTKtrtbWx4yI",
        "colab_type": "code",
        "outputId": "a518222c-a1a5-4e12-80b6-c8972e42a2c9",
        "colab": {
          "base_uri": "https://localhost:8080/",
          "height": 51
        }
      },
      "source": [
        "# print \"Same count\" if count of upper and lower case is equal\n",
        "# or print \"Programming\" if otherwise\n",
        "\n",
        "def condition(s) :\n",
        "  ucnt = 0\n",
        "  lcnt = 0\n",
        "  for i in range(len(s)) :\n",
        "    if ord(s[i]) >= 65 and ord(s[i])<=90 :\n",
        "      ucnt += 1\n",
        "    elif ord(s[i]) >= 97 and ord(s[i]) <= 122 :\n",
        "      lcnt += 1\n",
        "  if ucnt == lcnt :\n",
        "    print(\"Same count\")\n",
        "  else :\n",
        "    print(\"Programming\")\n",
        "  return \n",
        "\n",
        "condition(\"PyThOn\")\n",
        "condition(\"PythoN\")\n"
      ],
      "execution_count": 0,
      "outputs": [
        {
          "output_type": "stream",
          "text": [
            "Same count\n",
            "Programming\n"
          ],
          "name": "stdout"
        }
      ]
    },
    {
      "cell_type": "markdown",
      "metadata": {
        "id": "M-faM4rNbXn7",
        "colab_type": "text"
      },
      "source": [
        "[Count of character cases](https://drive.google.com/open?id=1IjJqgkPUGjzg9yLwGs9rPFTaAWk6SvxZ)"
      ]
    },
    {
      "cell_type": "code",
      "metadata": {
        "id": "V81Q1DYO0Vcz",
        "colab_type": "code",
        "outputId": "f01f7140-ed5d-4aa2-c617-7e29576b9c9a",
        "colab": {
          "base_uri": "https://localhost:8080/",
          "height": 68
        }
      },
      "source": [
        "# Extract digits from given string\n",
        "\n",
        "def extract(s) :\n",
        "  for i in range(len(s)) :\n",
        "    if ord(s[i]) >= 48 and ord(s[i])<= 57 :\n",
        "      print(s[i])\n",
        "  return\n",
        "\n",
        "extract(\"Applica8ion89\")\n"
      ],
      "execution_count": 0,
      "outputs": [
        {
          "output_type": "stream",
          "text": [
            "8\n",
            "8\n",
            "9\n"
          ],
          "name": "stdout"
        }
      ]
    },
    {
      "cell_type": "markdown",
      "metadata": {
        "id": "lWKkjPm1bhLf",
        "colab_type": "text"
      },
      "source": [
        "[Digit Extraction](https://drive.google.com/open?id=1iw2MWoCiunIm_o_uB2HpUx5Lzf8wfSG7)"
      ]
    },
    {
      "cell_type": "code",
      "metadata": {
        "id": "lSO0_9uI7mhb",
        "colab_type": "code",
        "outputId": "219a0461-7916-44b5-a780-9d6a66c2d99b",
        "colab": {
          "base_uri": "https://localhost:8080/",
          "height": 85
        }
      },
      "source": [
        "# Sum  of extraction of digits \n",
        "def extract(s) :\n",
        "  sum = 0\n",
        "  for i in range(len(s)) :\n",
        "    if ord(s[i]) >= 48 and ord(s[i])<= 57 :\n",
        "      print(s[i])\n",
        "      sum = sum + int(s[i])\n",
        "  print(\"Sum = \", sum)\n",
        "  return \n",
        "\n",
        "extract(\"Applica8ion89\")\n"
      ],
      "execution_count": 0,
      "outputs": [
        {
          "output_type": "stream",
          "text": [
            "8\n",
            "8\n",
            "9\n",
            "Sum =  25\n"
          ],
          "name": "stdout"
        }
      ]
    },
    {
      "cell_type": "markdown",
      "metadata": {
        "id": "jGMfwU5HbmwH",
        "colab_type": "text"
      },
      "source": [
        "[Sum of digit extraction](https://drive.google.com/open?id=1PBbI5UCm1JhxvLnw-NSY3hbTulXYH6jw)"
      ]
    },
    {
      "cell_type": "code",
      "metadata": {
        "id": "k0YFiVL0-VWd",
        "colab_type": "code",
        "outputId": "2cc956a3-78fe-4874-d72d-61b82ae9d1e5",
        "colab": {
          "base_uri": "https://localhost:8080/",
          "height": 51
        }
      },
      "source": [
        "# Printing certain word in Upper case\n",
        "\n",
        "def word(s) :\n",
        "  print(s)\n",
        "  cnt = 0\n",
        "  for i in range(len(s)) :\n",
        "    \n",
        "    if ord(s[i]) == 32 :\n",
        "      cnt += 1\n",
        "    if cnt == 1 :\n",
        "      if ord(s[i]) >= 65 and ord(s[i])<=90 :\n",
        "        print(s[i], end = \" \")\n",
        "      elif ord(s[i]) >= 97 and ord(s[i]) <= 122 :\n",
        "        print(chr(ord(s[i])-32), end = \" \")\n",
        "    if cnt == 2 :\n",
        "      break\n",
        "  return\n",
        "\n",
        "word(\"Python Made Easy\")\n",
        "\n"
      ],
      "execution_count": 0,
      "outputs": [
        {
          "output_type": "stream",
          "text": [
            "Python Made Easy\n",
            "M A D E "
          ],
          "name": "stdout"
        }
      ]
    },
    {
      "cell_type": "markdown",
      "metadata": {
        "id": "-zP7nrBsbtri",
        "colab_type": "text"
      },
      "source": [
        "[Printing 2 word](https://drive.google.com/open?id=1iqrAXQm9qlSCUZ5laMulclgGNz-Q2sSJ)"
      ]
    }
  ]
}