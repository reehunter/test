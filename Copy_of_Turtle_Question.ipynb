{
  "nbformat": 4,
  "nbformat_minor": 0,
  "metadata": {
    "colab": {
      "name": "Copy of Turtle Question",
      "version": "0.3.2",
      "provenance": [],
      "collapsed_sections": [],
      "include_colab_link": true
    },
    "language_info": {
      "codemirror_mode": {
        "name": "ipython",
        "version": 3
      },
      "file_extension": ".py",
      "mimetype": "text/x-python",
      "name": "python",
      "nbconvert_exporter": "python",
      "pygments_lexer": "ipython3",
      "version": "3.6.5"
    },
    "kernelspec": {
      "display_name": "Python 3",
      "language": "python",
      "name": "python3"
    }
  },
  "cells": [
    {
      "cell_type": "markdown",
      "metadata": {
        "id": "view-in-github",
        "colab_type": "text"
      },
      "source": [
        "<a href=\"https://colab.research.google.com/github/reehunter/test/blob/master/Copy_of_Turtle_Question.ipynb\" target=\"_parent\"><img src=\"https://colab.research.google.com/assets/colab-badge.svg\" alt=\"Open In Colab\"/></a>"
      ]
    },
    {
      "cell_type": "markdown",
      "metadata": {
        "id": "Y3O7GemEWYXv",
        "colab_type": "text"
      },
      "source": [
        "### 2. Draw a Spirling Square with Pen color as 'Red'."
      ]
    },
    {
      "cell_type": "code",
      "metadata": {
        "id": "fmk_Xn1vWcJX",
        "colab_type": "code",
        "colab": {}
      },
      "source": [
        "# Turtle Graphics Q-1\n",
        "\n",
        "import turtle as b\n",
        "b1 = b.Turtle()\n",
        "b1.pencolor('red') \n",
        "for x in range(250):\n",
        "        b1.forward(x)\n",
        "        b1.left(91)\n",
        "b.done()\n"
      ],
      "execution_count": 0,
      "outputs": []
    }
  ]
}