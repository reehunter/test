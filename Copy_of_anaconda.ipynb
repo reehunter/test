{
  "nbformat": 4,
  "nbformat_minor": 0,
  "metadata": {
    "colab": {
      "name": "Copy of anaconda",
      "version": "0.3.2",
      "provenance": [],
      "collapsed_sections": [],
      "include_colab_link": true
    },
    "kernelspec": {
      "name": "python3",
      "display_name": "Python 3"
    }
  },
  "cells": [
    {
      "cell_type": "markdown",
      "metadata": {
        "id": "view-in-github",
        "colab_type": "text"
      },
      "source": [
        "<a href=\"https://colab.research.google.com/github/reehunter/test/blob/master/Copy_of_anaconda.ipynb\" target=\"_parent\"><img src=\"https://colab.research.google.com/assets/colab-badge.svg\" alt=\"Open In Colab\"/></a>"
      ]
    },
    {
      "cell_type": "code",
      "metadata": {
        "id": "k90lsb5sTPWd",
        "colab_type": "code",
        "colab": {}
      },
      "source": [
        ""
      ],
      "execution_count": 0,
      "outputs": []
    },
    {
      "cell_type": "markdown",
      "metadata": {
        "id": "rR7SjXiCTSCW",
        "colab_type": "text"
      },
      "source": [
        "code"
      ]
    },
    {
      "cell_type": "code",
      "metadata": {
        "id": "hnC9LvJ1TV2n",
        "colab_type": "code",
        "outputId": "7ea14143-9ad6-4351-fa36-9a3ddd82381e",
        "colab": {
          "base_uri": "https://localhost:8080/",
          "height": 68
        }
      },
      "source": [
        "i=100\n",
        "print(type(i))\n",
        "s1 = str(i)\n",
        "print(type(s1))\n",
        "f1=float(i)\n",
        "print(type(f1))\n"
      ],
      "execution_count": 0,
      "outputs": [
        {
          "output_type": "stream",
          "text": [
            "<class 'int'>\n",
            "<class 'str'>\n",
            "<class 'float'>\n"
          ],
          "name": "stdout"
        }
      ]
    },
    {
      "cell_type": "code",
      "metadata": {
        "id": "yk-DQhMaU8RP",
        "colab_type": "code",
        "outputId": "ce8eafa4-30f2-4fff-e981-9bfd029add2c",
        "colab": {
          "base_uri": "https://localhost:8080/",
          "height": 85
        }
      },
      "source": [
        "s1 = \"100\"\n",
        "print(type(s1))\n",
        "a = int(s1)\n",
        "print(type(a))\n",
        "f = 1.5\n",
        "a1 = int(f)\n",
        "print(type(a1))\n",
        "print(a1)\n"
      ],
      "execution_count": 0,
      "outputs": [
        {
          "output_type": "stream",
          "text": [
            "<class 'str'>\n",
            "<class 'int'>\n",
            "<class 'int'>\n",
            "1\n"
          ],
          "name": "stdout"
        }
      ]
    },
    {
      "cell_type": "markdown",
      "metadata": {
        "id": "_mDz5x-_TR0T",
        "colab_type": "text"
      },
      "source": [
        ""
      ]
    },
    {
      "cell_type": "code",
      "metadata": {
        "id": "0KU4KkZHWLwL",
        "colab_type": "code",
        "outputId": "f95421a0-00c0-407d-f50c-a6defc72de13",
        "colab": {
          "base_uri": "https://localhost:8080/",
          "height": 34
        }
      },
      "source": [
        "# a number is given 1234 - \n",
        "# digit count\n",
        "a1 = 1234\n",
        "print(len(str(a1)))"
      ],
      "execution_count": 0,
      "outputs": [
        {
          "output_type": "stream",
          "text": [
            "4\n"
          ],
          "name": "stdout"
        }
      ]
    },
    {
      "cell_type": "code",
      "metadata": {
        "id": "6Qu40TQDYwzA",
        "colab_type": "code",
        "outputId": "08ef7288-5a08-40db-b537-ad7723c9e319",
        "colab": {
          "base_uri": "https://localhost:8080/",
          "height": 68
        }
      },
      "source": [
        "s1 = input(\"Enter your name\")\n",
        "print(s1)\n",
        "print(type(s1))"
      ],
      "execution_count": 0,
      "outputs": [
        {
          "output_type": "stream",
          "text": [
            "Enter your nameRohit\n",
            "Rohit\n",
            "<class 'str'>\n"
          ],
          "name": "stdout"
        }
      ]
    },
    {
      "cell_type": "code",
      "metadata": {
        "id": "CFn302AsZCsy",
        "colab_type": "code",
        "outputId": "35a0e06e-2df7-48f6-dbe4-ece66896dfde",
        "colab": {
          "base_uri": "https://localhost:8080/",
          "height": 51
        }
      },
      "source": [
        "n1 = int(input(\"Enter your number - \"))\n",
        "print(n1,type(n1))\n"
      ],
      "execution_count": 0,
      "outputs": [
        {
          "output_type": "stream",
          "text": [
            "Enter your number - 9902800428\n",
            "9902800428 <class 'int'>\n"
          ],
          "name": "stdout"
        }
      ]
    },
    {
      "cell_type": "markdown",
      "metadata": {
        "id": "TyT7DPKsaytU",
        "colab_type": "text"
      },
      "source": [
        "Operators\n",
        "Operator is a symbol used to perform a specific kind of operations\n",
        "Arithmetic Operators\n",
        "+\n",
        "/\n",
        "-\n",
        "*\n",
        "%\n",
        "**\n",
        "//"
      ]
    },
    {
      "cell_type": "code",
      "metadata": {
        "id": "TH3-1zzGbAG-",
        "colab_type": "code",
        "colab": {}
      },
      "source": [
        ""
      ],
      "execution_count": 0,
      "outputs": []
    },
    {
      "cell_type": "code",
      "metadata": {
        "id": "xUPnGp6-Zxkg",
        "colab_type": "code",
        "outputId": "4a0d8236-cfac-4a6c-d0e3-260c90e91f69",
        "colab": {
          "base_uri": "https://localhost:8080/",
          "height": 136
        }
      },
      "source": [
        "n1 = 1234\n",
        "print(n1+10)\n",
        "print(n1-10)\n",
        "print(n1*10)\n",
        "print(n1/10)  # float\n",
        "print(n1%10)  # remainder\n",
        "print(n1//10)  # int\n",
        "print(n1**10)  # exponent"
      ],
      "execution_count": 0,
      "outputs": [
        {
          "output_type": "stream",
          "text": [
            "1244\n",
            "1224\n",
            "12340\n",
            "123.4\n",
            "4\n",
            "123\n",
            "8187505353567209228244052427776\n"
          ],
          "name": "stdout"
        }
      ]
    },
    {
      "cell_type": "code",
      "metadata": {
        "id": "Dp4xisHec1dU",
        "colab_type": "code",
        "colab": {}
      },
      "source": [
        ""
      ],
      "execution_count": 0,
      "outputs": []
    },
    {
      "cell_type": "markdown",
      "metadata": {
        "id": "-6W9c8UMdQjW",
        "colab_type": "text"
      },
      "source": [
        ""
      ]
    },
    {
      "cell_type": "markdown",
      "metadata": {
        "id": "lKwvGQRCcyr_",
        "colab_type": "text"
      },
      "source": [
        "### Precedence of operators\n",
        "\n",
        "- Parenthesis\n",
        "- Power\n",
        "- Multiplication\n",
        "- Addition\n",
        "\n",
        "##Left to right\n"
      ]
    },
    {
      "cell_type": "markdown",
      "metadata": {
        "id": "aeTxO-hzdOR1",
        "colab_type": "text"
      },
      "source": [
        ""
      ]
    },
    {
      "cell_type": "code",
      "metadata": {
        "id": "0BEHByXfY2PC",
        "colab_type": "code",
        "outputId": "2783dc14-1255-49bf-d023-610e898cb34f",
        "colab": {
          "base_uri": "https://localhost:8080/",
          "height": 34
        }
      },
      "source": [
        "x = 1 + 2 ** 3 / 4 + 5 \n",
        "# 1 + 8 / 4 + 5\n",
        "# 1 + 2.0 + 5\n",
        "# Power, division, Addition\n",
        "print(x)"
      ],
      "execution_count": 0,
      "outputs": [
        {
          "output_type": "stream",
          "text": [
            "8.0\n"
          ],
          "name": "stdout"
        }
      ]
    },
    {
      "cell_type": "code",
      "metadata": {
        "id": "uebHHZhjzkmZ",
        "colab_type": "code",
        "outputId": "fa0f693d-ee43-4891-91fd-e89e4f9770b0",
        "colab": {
          "base_uri": "https://localhost:8080/",
          "height": 34
        }
      },
      "source": [
        "x = 1 + 2 ** 3 / 4 * 5\n",
        "# Power, division, Multiplication, Addition\n",
        "print(x)\n"
      ],
      "execution_count": 0,
      "outputs": [
        {
          "output_type": "stream",
          "text": [
            "11.0\n"
          ],
          "name": "stdout"
        }
      ]
    },
    {
      "cell_type": "code",
      "metadata": {
        "id": "V5IikmVcz0hX",
        "colab_type": "code",
        "colab": {}
      },
      "source": [
        ""
      ],
      "execution_count": 0,
      "outputs": []
    },
    {
      "cell_type": "markdown",
      "metadata": {
        "id": "T9vpGuoLz1E2",
        "colab_type": "text"
      },
      "source": [
        "Relational Operators\n",
        "( true or false )\n",
        "\n",
        "==\n",
        "!=\n",
        "Greater ( > )\n",
        "Less tha ( < )\n",
        "Less than or equal to ( <= )\n",
        "Greater than or equal to ( >= "
      ]
    },
    {
      "cell_type": "code",
      "metadata": {
        "id": "vRIqENRHz3Ma",
        "colab_type": "code",
        "outputId": "3c40349f-0155-4eb9-90fa-f6c823b44c94",
        "colab": {
          "base_uri": "https://localhost:8080/",
          "height": 34
        }
      },
      "source": [
        "x = 10\n",
        "a1 = x > 15\n",
        "print(a1)\n"
      ],
      "execution_count": 0,
      "outputs": [
        {
          "output_type": "stream",
          "text": [
            "False\n"
          ],
          "name": "stdout"
        }
      ]
    },
    {
      "cell_type": "code",
      "metadata": {
        "id": "hd6yy8WHz6Mu",
        "colab_type": "code",
        "colab": {}
      },
      "source": [
        ""
      ],
      "execution_count": 0,
      "outputs": []
    },
    {
      "cell_type": "markdown",
      "metadata": {
        "id": "W7hkEvCZ0HDw",
        "colab_type": "text"
      },
      "source": [
        "Conditional Operators\n",
        "Used to combine more than single condition\n",
        "\n",
        "and\n",
        "or\n",
        "not"
      ]
    },
    {
      "cell_type": "code",
      "metadata": {
        "id": "E_CR8NtP0QB5",
        "colab_type": "code",
        "outputId": "5051572b-18b9-4022-a9b7-6f143d838d14",
        "colab": {
          "base_uri": "https://localhost:8080/",
          "height": 51
        }
      },
      "source": [
        "i = 100\n",
        "a1 = (i>15) and (i<800)\n",
        "a2 = (i>15) and (i>800)\n",
        "print(a1)\n",
        "print(a2)"
      ],
      "execution_count": 0,
      "outputs": [
        {
          "output_type": "stream",
          "text": [
            "True\n",
            "False\n"
          ],
          "name": "stdout"
        }
      ]
    },
    {
      "cell_type": "code",
      "metadata": {
        "id": "4VG8-da50RR4",
        "colab_type": "code",
        "colab": {}
      },
      "source": [
        ""
      ],
      "execution_count": 0,
      "outputs": []
    },
    {
      "cell_type": "markdown",
      "metadata": {
        "id": "mMjm0_IN0VTh",
        "colab_type": "text"
      },
      "source": [
        ""
      ]
    },
    {
      "cell_type": "markdown",
      "metadata": {
        "id": "lvVlO03olG_h",
        "colab_type": "text"
      },
      "source": [
        "##Control flow statements\n",
        "\n",
        "- Conditional statements \n",
        "- Looping statements \n",
        "\n",
        "#### if-else statement\n",
        "**Syntax**\n",
        "\n",
        "if boolean_condition: \n",
        "\n",
        "statements \n",
        "\n",
        "else :\n",
        "\n",
        "statements\n",
        "\n"
      ]
    },
    {
      "cell_type": "code",
      "metadata": {
        "id": "6ZhjihkT0bHQ",
        "colab_type": "code",
        "outputId": "13701699-dac0-4da7-d70e-0cf63d4f060d",
        "colab": {
          "base_uri": "https://localhost:8080/",
          "height": 51
        }
      },
      "source": [
        "# To check given number is even or odd\n",
        "n = int(input(\"Enter a number - \"))\n",
        "if n % 2 == 0:\n",
        "    print(\"Even\")\n",
        "else :\n",
        "    print(\"Odd\")  # Indentation compulsory "
      ],
      "execution_count": 0,
      "outputs": [
        {
          "output_type": "stream",
          "text": [
            "Enter a number - 4\n",
            "Even\n"
          ],
          "name": "stdout"
        }
      ]
    },
    {
      "cell_type": "code",
      "metadata": {
        "id": "NrKW0tLJ0fUu",
        "colab_type": "code",
        "outputId": "7323d6ab-7322-410c-a92d-dfcf80f2ab4c",
        "colab": {
          "base_uri": "https://localhost:8080/",
          "height": 51
        }
      },
      "source": [
        "# to check given number is a perfect multiple of 3 and 5\n",
        "n = int(input(\"Enter a number - \"))\n",
        "if n%3==0 and n%5==0 :\n",
        "      print(\"Yes\")\n",
        "else :\n",
        "      print(\"No\")\n"
      ],
      "execution_count": 0,
      "outputs": [
        {
          "output_type": "stream",
          "text": [
            "Enter a number - 15\n",
            "Yes\n"
          ],
          "name": "stdout"
        }
      ]
    },
    {
      "cell_type": "code",
      "metadata": {
        "id": "TJ2R0W7d0kuc",
        "colab_type": "code",
        "outputId": "016c8daa-53d6-48fe-dfc7-c347510f0398",
        "colab": {
          "base_uri": "https://localhost:8080/",
          "height": 51
        }
      },
      "source": [
        "# is given number positive, negative or zero\n",
        "n = int(input(\"Enter a number - \"))\n",
        "if n==0 :\n",
        "   print(\"Zero\")\n",
        "elif n>0 :  # else if \n",
        "  print(\"Positive number\")\n",
        "elif n<0 :\n",
        "  print(\"Negative number\")\n"
      ],
      "execution_count": 0,
      "outputs": [
        {
          "output_type": "stream",
          "text": [
            "Enter a number - 5\n",
            "Positive number\n"
          ],
          "name": "stdout"
        }
      ]
    },
    {
      "cell_type": "code",
      "metadata": {
        "id": "MkRy-KOQ1RNJ",
        "colab_type": "code",
        "outputId": "c18f9f2e-d752-4c68-e2e2-cae5941a9043",
        "colab": {
          "base_uri": "https://localhost:8080/",
          "height": 51
        }
      },
      "source": [
        "# 1 is given year is leap year or not\n",
        "n = int(input(\"enter the year - \"))\n",
        "if n%4==0 :\n",
        " print(\"leap year\")\n",
        "else :\n",
        " print(\"not an leap year\")"
      ],
      "execution_count": 0,
      "outputs": [
        {
          "output_type": "stream",
          "text": [
            "enter the year - 2000\n",
            "leap year\n"
          ],
          "name": "stdout"
        }
      ]
    },
    {
      "cell_type": "code",
      "metadata": {
        "id": "MbegdyFW3_az",
        "colab_type": "code",
        "outputId": "ccdef0aa-45cd-4093-912e-a13989671ad3",
        "colab": {
          "base_uri": "https://localhost:8080/",
          "height": 51
        }
      },
      "source": [
        "# 2 to get week days\n",
        "n = int(input(\"enter the week nom- \"))\n",
        "if n==1 :\n",
        "  print(\"monday\")\n",
        "elif n==2 :\n",
        "  print(\"tuesday\")\n",
        "elif n==3 : \n",
        "  print(\"wednesday\")\n",
        "elif n==4 :\n",
        "  print(\"thrusday\")\n",
        "elif n==5 :\n",
        "  print(\"friday\")\n",
        "elif n==6 : \n",
        "  print(\"saturday\")\n",
        "elif n==7:\n",
        "  print(\"sunday\")"
      ],
      "execution_count": 0,
      "outputs": [
        {
          "output_type": "stream",
          "text": [
            "enter the week nom- 5\n",
            "friday\n"
          ],
          "name": "stdout"
        }
      ]
    },
    {
      "cell_type": "code",
      "metadata": {
        "id": "_XzOVlpO7Zcn",
        "colab_type": "code",
        "outputId": "db59a9c2-fe0c-434b-f626-e2fd7805e10d",
        "colab": {
          "base_uri": "https://localhost:8080/",
          "height": 85
        }
      },
      "source": [
        "# 3 to get largest amount 3 nos\n",
        " a = int(input(\"enter the value of a-\"))\n",
        " b = int(input(\"enter the value of b-\"))\n",
        " c = int(input(\"enter the value of c-\"))\n",
        " if a>b and a>c :\n",
        "    print(a)\n",
        " elif b>c and b>a :\n",
        "    print(b)\n",
        " elif c>a and c>a :\n",
        "  print(c)"
      ],
      "execution_count": 0,
      "outputs": [
        {
          "output_type": "stream",
          "text": [
            "enter the value of a-5\n",
            "enter the value of b-7\n",
            "enter the value of c-3\n",
            "7\n"
          ],
          "name": "stdout"
        }
      ]
    },
    {
      "cell_type": "code",
      "metadata": {
        "id": "wjO5Jdqz9Vma",
        "colab_type": "code",
        "outputId": "2d7c3a3d-1dfc-444d-c08d-bd96f18af808",
        "colab": {
          "base_uri": "https://localhost:8080/",
          "height": 51
        }
      },
      "source": [
        "#4Sum of n numbers\n",
        "n = int(input(\"enter a number:\"))\n",
        "sum=0\n",
        "for i in range(n+1):\n",
        "  sum=sum+i\n",
        "print(sum)"
      ],
      "execution_count": 0,
      "outputs": [
        {
          "output_type": "stream",
          "text": [
            "enter a number:5\n",
            "15\n"
          ],
          "name": "stdout"
        }
      ]
    },
    {
      "cell_type": "code",
      "metadata": {
        "id": "SGfASeQF_egy",
        "colab_type": "code",
        "outputId": "cde8a686-349b-41f1-d929-82d0635c75fc",
        "colab": {
          "base_uri": "https://localhost:8080/",
          "height": 51
        }
      },
      "source": [
        "#5sum of n odd numbers\n",
        "n = int(input(\"enter a number:\"))\n",
        "sum=0\n",
        "for i in range(1,n+1,2):\n",
        "  sum=sum+i\n",
        "print(\"sum is\",sum)"
      ],
      "execution_count": 0,
      "outputs": [
        {
          "output_type": "stream",
          "text": [
            "enter a number:7\n",
            "sum is 16\n"
          ],
          "name": "stdout"
        }
      ]
    },
    {
      "cell_type": "code",
      "metadata": {
        "id": "ORPWoA4j_knQ",
        "colab_type": "code",
        "outputId": "49bc9445-8b7e-4576-e871-c764c95378fe",
        "colab": {
          "base_uri": "https://localhost:8080/",
          "height": 282
        }
      },
      "source": [
        "#7 roots of quadratic equation\n",
        "import math\n",
        "a = int(input(\"Enter coeff of x^2:\"))\n",
        "b = int(input(\"Enter coeff of x:\"))\n",
        "c = int(input(\"Enter constant:\"))\n",
        "p=(-b+math.sqrt(b*b-4*a*c))/2*a\n",
        "q=(-b-math.sqrt(b*b-4*a*c))/2*a\n",
        "if b*b-4*a*c >=0:\n",
        "  print(\"the roots are\",p,q)\n",
        "else:\n",
        "  print(\"roots are imaginary\")"
      ],
      "execution_count": 0,
      "outputs": [
        {
          "output_type": "stream",
          "text": [
            "Enter coeff of x^2:3\n",
            "Enter coeff of x:6\n",
            "Enter constant:8\n"
          ],
          "name": "stdout"
        },
        {
          "output_type": "error",
          "ename": "ValueError",
          "evalue": "ignored",
          "traceback": [
            "\u001b[0;31m---------------------------------------------------------------------------\u001b[0m",
            "\u001b[0;31mValueError\u001b[0m                                Traceback (most recent call last)",
            "\u001b[0;32m<ipython-input-18-e9b21e767595>\u001b[0m in \u001b[0;36m<module>\u001b[0;34m()\u001b[0m\n\u001b[1;32m      3\u001b[0m \u001b[0mb\u001b[0m \u001b[0;34m=\u001b[0m \u001b[0mint\u001b[0m\u001b[0;34m(\u001b[0m\u001b[0minput\u001b[0m\u001b[0;34m(\u001b[0m\u001b[0;34m\"Enter coeff of x:\"\u001b[0m\u001b[0;34m)\u001b[0m\u001b[0;34m)\u001b[0m\u001b[0;34m\u001b[0m\u001b[0;34m\u001b[0m\u001b[0m\n\u001b[1;32m      4\u001b[0m \u001b[0mc\u001b[0m \u001b[0;34m=\u001b[0m \u001b[0mint\u001b[0m\u001b[0;34m(\u001b[0m\u001b[0minput\u001b[0m\u001b[0;34m(\u001b[0m\u001b[0;34m\"Enter constant:\"\u001b[0m\u001b[0;34m)\u001b[0m\u001b[0;34m)\u001b[0m\u001b[0;34m\u001b[0m\u001b[0;34m\u001b[0m\u001b[0m\n\u001b[0;32m----> 5\u001b[0;31m \u001b[0mp\u001b[0m\u001b[0;34m=\u001b[0m\u001b[0;34m(\u001b[0m\u001b[0;34m-\u001b[0m\u001b[0mb\u001b[0m\u001b[0;34m+\u001b[0m\u001b[0mmath\u001b[0m\u001b[0;34m.\u001b[0m\u001b[0msqrt\u001b[0m\u001b[0;34m(\u001b[0m\u001b[0mb\u001b[0m\u001b[0;34m*\u001b[0m\u001b[0mb\u001b[0m\u001b[0;34m-\u001b[0m\u001b[0;36m4\u001b[0m\u001b[0;34m*\u001b[0m\u001b[0ma\u001b[0m\u001b[0;34m*\u001b[0m\u001b[0mc\u001b[0m\u001b[0;34m)\u001b[0m\u001b[0;34m)\u001b[0m\u001b[0;34m/\u001b[0m\u001b[0;36m2\u001b[0m\u001b[0;34m*\u001b[0m\u001b[0ma\u001b[0m\u001b[0;34m\u001b[0m\u001b[0;34m\u001b[0m\u001b[0m\n\u001b[0m\u001b[1;32m      6\u001b[0m \u001b[0mq\u001b[0m\u001b[0;34m=\u001b[0m\u001b[0;34m(\u001b[0m\u001b[0;34m-\u001b[0m\u001b[0mb\u001b[0m\u001b[0;34m-\u001b[0m\u001b[0mmath\u001b[0m\u001b[0;34m.\u001b[0m\u001b[0msqrt\u001b[0m\u001b[0;34m(\u001b[0m\u001b[0mb\u001b[0m\u001b[0;34m*\u001b[0m\u001b[0mb\u001b[0m\u001b[0;34m-\u001b[0m\u001b[0;36m4\u001b[0m\u001b[0;34m*\u001b[0m\u001b[0ma\u001b[0m\u001b[0;34m*\u001b[0m\u001b[0mc\u001b[0m\u001b[0;34m)\u001b[0m\u001b[0;34m)\u001b[0m\u001b[0;34m/\u001b[0m\u001b[0;36m2\u001b[0m\u001b[0;34m*\u001b[0m\u001b[0ma\u001b[0m\u001b[0;34m\u001b[0m\u001b[0;34m\u001b[0m\u001b[0m\n\u001b[1;32m      7\u001b[0m \u001b[0;32mif\u001b[0m \u001b[0mb\u001b[0m\u001b[0;34m*\u001b[0m\u001b[0mb\u001b[0m\u001b[0;34m-\u001b[0m\u001b[0;36m4\u001b[0m\u001b[0;34m*\u001b[0m\u001b[0ma\u001b[0m\u001b[0;34m*\u001b[0m\u001b[0mc\u001b[0m \u001b[0;34m>=\u001b[0m\u001b[0;36m0\u001b[0m\u001b[0;34m:\u001b[0m\u001b[0;34m\u001b[0m\u001b[0;34m\u001b[0m\u001b[0m\n",
            "\u001b[0;31mValueError\u001b[0m: math domain error"
          ]
        }
      ]
    },
    {
      "cell_type": "code",
      "metadata": {
        "id": "fTZF0-9-_sNd",
        "colab_type": "code",
        "outputId": "cdf6a477-ced9-453a-bb3b-25d25b9b3da6",
        "colab": {
          "base_uri": "https://localhost:8080/",
          "height": 102
        }
      },
      "source": [
        "# Divisors of a number - Factors\n",
        "n = int(input(\"Enter a number - \"))\n",
        "x = 1\n",
        "while(x<=n):\n",
        "  if n%x==0 :\n",
        "    print(x)\n",
        "  x= x + 1\n",
        "  "
      ],
      "execution_count": 0,
      "outputs": [
        {
          "output_type": "stream",
          "text": [
            "Enter a number - 6\n",
            "1\n",
            "2\n",
            "3\n",
            "6\n"
          ],
          "name": "stdout"
        }
      ]
    },
    {
      "cell_type": "code",
      "metadata": {
        "id": "wePptU-YA1tf",
        "colab_type": "code",
        "outputId": "650c138f-b510-431b-aac1-85ee79cfc948",
        "colab": {
          "base_uri": "https://localhost:8080/",
          "height": 282
        }
      },
      "source": [
        "#9 Triangle is valid or not\n",
        "a = int(input(\"enter side1:\"))\n",
        "b = int(input(\"enter side2:\"))\n",
        "c = int(input(\"enter side3:\"))\n",
        "if a+b>c or a+c>b or b+c>a:\n",
        "  print(\"Triangle is valid\")\n",
        "else:\n",
        "  print(\"Triangle is not valid\")"
      ],
      "execution_count": 0,
      "outputs": [
        {
          "output_type": "stream",
          "text": [
            "enter side1:5\n",
            "enter side2:4\n",
            "enter side3:\n"
          ],
          "name": "stdout"
        },
        {
          "output_type": "error",
          "ename": "ValueError",
          "evalue": "ignored",
          "traceback": [
            "\u001b[0;31m---------------------------------------------------------------------------\u001b[0m",
            "\u001b[0;31mValueError\u001b[0m                                Traceback (most recent call last)",
            "\u001b[0;32m<ipython-input-20-068a8bd6d408>\u001b[0m in \u001b[0;36m<module>\u001b[0;34m()\u001b[0m\n\u001b[1;32m      1\u001b[0m \u001b[0ma\u001b[0m \u001b[0;34m=\u001b[0m \u001b[0mint\u001b[0m\u001b[0;34m(\u001b[0m\u001b[0minput\u001b[0m\u001b[0;34m(\u001b[0m\u001b[0;34m\"enter side1:\"\u001b[0m\u001b[0;34m)\u001b[0m\u001b[0;34m)\u001b[0m\u001b[0;34m\u001b[0m\u001b[0;34m\u001b[0m\u001b[0m\n\u001b[1;32m      2\u001b[0m \u001b[0mb\u001b[0m \u001b[0;34m=\u001b[0m \u001b[0mint\u001b[0m\u001b[0;34m(\u001b[0m\u001b[0minput\u001b[0m\u001b[0;34m(\u001b[0m\u001b[0;34m\"enter side2:\"\u001b[0m\u001b[0;34m)\u001b[0m\u001b[0;34m)\u001b[0m\u001b[0;34m\u001b[0m\u001b[0;34m\u001b[0m\u001b[0m\n\u001b[0;32m----> 3\u001b[0;31m \u001b[0mc\u001b[0m \u001b[0;34m=\u001b[0m \u001b[0mint\u001b[0m\u001b[0;34m(\u001b[0m\u001b[0minput\u001b[0m\u001b[0;34m(\u001b[0m\u001b[0;34m\"enter side3:\"\u001b[0m\u001b[0;34m)\u001b[0m\u001b[0;34m)\u001b[0m\u001b[0;34m\u001b[0m\u001b[0;34m\u001b[0m\u001b[0m\n\u001b[0m\u001b[1;32m      4\u001b[0m \u001b[0;32mif\u001b[0m \u001b[0ma\u001b[0m\u001b[0;34m+\u001b[0m\u001b[0mb\u001b[0m\u001b[0;34m>\u001b[0m\u001b[0mc\u001b[0m \u001b[0;32mor\u001b[0m \u001b[0ma\u001b[0m\u001b[0;34m+\u001b[0m\u001b[0mc\u001b[0m\u001b[0;34m>\u001b[0m\u001b[0mb\u001b[0m \u001b[0;32mor\u001b[0m \u001b[0mb\u001b[0m\u001b[0;34m+\u001b[0m\u001b[0mc\u001b[0m\u001b[0;34m>\u001b[0m\u001b[0ma\u001b[0m\u001b[0;34m:\u001b[0m\u001b[0;34m\u001b[0m\u001b[0;34m\u001b[0m\u001b[0m\n\u001b[1;32m      5\u001b[0m   \u001b[0mprint\u001b[0m\u001b[0;34m(\u001b[0m\u001b[0;34m\"Triangle is valid\"\u001b[0m\u001b[0;34m)\u001b[0m\u001b[0;34m\u001b[0m\u001b[0;34m\u001b[0m\u001b[0m\n",
            "\u001b[0;31mValueError\u001b[0m: invalid literal for int() with base 10: ''"
          ]
        }
      ]
    },
    {
      "cell_type": "code",
      "metadata": {
        "id": "uQ4VG95YBDlw",
        "colab_type": "code",
        "colab": {}
      },
      "source": [
        "# Celsius to Fahrenheit\n",
        "c = int(input(\"Enter temp. in C - \"))\n",
        "f = (c * 1.8) + 32\n",
        "print(\"temp. in F = \",f)"
      ],
      "execution_count": 0,
      "outputs": []
    },
    {
      "cell_type": "code",
      "metadata": {
        "id": "OmDiNADUBLuT",
        "colab_type": "code",
        "colab": {}
      },
      "source": [
        "# sum and average of given series \n",
        "n = int(input(\"Enter number of terms - \"))\n",
        "i = 1\n",
        "sum = 0\n",
        "while(i<=n) :\n",
        "  x = int(input(\"no. = \"))\n",
        "  sum = sum + x\n",
        "  i = i + 1\n",
        "avg = sum / n\n",
        "print(\"Sum = \",sum, \" Average = \",avg)"
      ],
      "execution_count": 0,
      "outputs": []
    }
  ]
}